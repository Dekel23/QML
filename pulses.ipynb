{
 "cells": [
  {
   "cell_type": "markdown",
   "metadata": {},
   "source": [
    "# H2 VQ-SCI Pulse Optimization\n",
    "\n",
    "This notebook contains the solutions for the exercise on VQ-SCI (Variational Quantum Subspace-Constrained Iteration) optimization for the H2 molecule using pulse-level control.\n",
    "\n",
    "### Setup and Imports\n",
    "\n",
    "First, let's import the necessary libraries and set up our environment:"
   ]
  },
  {
   "cell_type": "code",
   "execution_count": 33,
   "metadata": {},
   "outputs": [
    {
     "name": "stderr",
     "output_type": "stream",
     "text": [
      "C:\\Users\\ereld\\AppData\\Local\\Temp\\ipykernel_25240\\2477145473.py:25: DeprecationWarning: V1 fake backends are deprecated as of qiskit-ibm-runtime 0.24 and will be removed no sooner than 3 months after the release date. Please use V2 fake backends instead.\n",
      "  backend_belem = FakeBelem()\n"
     ]
    }
   ],
   "source": [
    "import matplotlib.pyplot as plt\n",
    "import qiskit\n",
    "import numpy as np\n",
    "import time\n",
    "from scipy.optimize import minimize\n",
    "import qiskit.quantum_info as qi\n",
    "from qiskit.quantum_info.operators import Operator\n",
    "from qiskit import QuantumCircuit\n",
    "from qiskit import pulse\n",
    "from qiskit_aer import Aer, QasmSimulator\n",
    "from qiskit_ibm_runtime.fake_provider.backends.belem.fake_belem import FakeBelem\n",
    "from qiskit import transpile\n",
    "from qiskit import pulse\n",
    "from scipy import stats\n",
    "from qiskit.circuit.library import HGate\n",
    "\n",
    "\n",
    "# Constants\n",
    "GHz = 1.0e9  # Gigahertz\n",
    "MHz = 1.0e6  # Megahertz\n",
    "us = 1.0e-6  # Microseconds\n",
    "ns = 1.0e-9  # Nanoseconds\n",
    "\n",
    "# Setup backend\n",
    "backend_belem = FakeBelem()\n",
    "simulation_backend = QasmSimulator()\n",
    "\n",
    "# H2 Hamiltonian coefficients\n",
    "paulis = ['I', 'Z', 'X']\n",
    "coeff_values = [-1.0431, -0.7835, 0.1814]\n",
    "H2 = coeff_values[0] * Operator(qi.SparsePauliOp(\"I\")) \\\n",
    "    + coeff_values[1] * Operator(qi.SparsePauliOp(\"Z\")) \\\n",
    "    + coeff_values[2] * Operator(qi.SparsePauliOp(\"X\"))\n",
    "\n",
    "qubit = 0\n",
    "shots = 50000"
   ]
  },
  {
   "cell_type": "markdown",
   "metadata": {},
   "source": [
    "## Part 2.1: Gate Model Optimization\n",
    "\n",
    "Let's implement the optimization process for the gate model with a single Ry gate:"
   ]
  },
  {
   "cell_type": "code",
   "execution_count": 34,
   "metadata": {},
   "outputs": [
    {
     "name": "stdout",
     "output_type": "stream",
     "text": [
      "Optimized angle: 6.068378432806454\n",
      "Final energy: -1.8466163759999998\n"
     ]
    }
   ],
   "source": [
    "# Part 2.1: Gate Model Optimization\n",
    "\n",
    "def expectation_value(counts: dict, shots: int):\n",
    "    if \"0\" in counts and \"1\" in counts:\n",
    "        return (counts['0'] - counts['1']) / shots\n",
    "    elif \"0\" in counts and \"1\" not in counts:\n",
    "        return 1.0\n",
    "    elif \"1\" in counts and \"0\" not in counts:\n",
    "        return -1.0\n",
    "    else:\n",
    "        raise AssertionError(\"Counts results do not have '0' or '1' or any results\")\n",
    "\n",
    "def cost_H2(meas_results, coefficients, paulis):\n",
    "    cost = 0\n",
    "    for ind, pauli in enumerate(paulis):\n",
    "        if pauli == 'I':\n",
    "            cost += coefficients[ind]\n",
    "        else:\n",
    "            cost += coefficients[ind] * expectation_value(meas_results[ind - 1], shots)\n",
    "    return cost\n",
    "\n",
    "def run_circuit(circuit, backend, shots):\n",
    "    job = backend.run(circuit, shots=shots)\n",
    "    result = job.result()\n",
    "    return result.get_counts()\n",
    "\n",
    "def create_ansatz(theta):\n",
    "    qc = QuantumCircuit(1, 1)\n",
    "    qc.ry(theta, 0)\n",
    "    return qc\n",
    "\n",
    "def evaluate_energy(theta):\n",
    "    # Ensure theta is a scalar\n",
    "    theta = theta.item() if isinstance(theta, np.ndarray) else theta\n",
    "    ansatz = create_ansatz(theta)\n",
    "    results = []\n",
    "    for pauli in paulis[1:]:  # Skip 'I'\n",
    "        meas_circuit = ansatz.copy()\n",
    "        if pauli == 'X':\n",
    "            meas_circuit.h(0)\n",
    "        meas_circuit.measure(0, 0)\n",
    "        counts = run_circuit(meas_circuit, simulation_backend, shots)\n",
    "        results.append(counts)\n",
    "    return cost_H2(results, coeff_values, paulis)\n",
    "\n",
    "# Optimization\n",
    "initial_theta = np.random.random() * 2 * np.pi\n",
    "result = minimize(evaluate_energy, initial_theta, method='COBYLA', options={'maxiter': 100})\n",
    "\n",
    "print(f\"Optimized angle: {result.x[0]}\")\n",
    "print(f\"Final energy: {result.fun}\")"
   ]
  },
  {
   "cell_type": "markdown",
   "metadata": {},
   "source": [
    "## Part 2.2: Constant (Square) Pulse Optimization\n",
    "\n",
    "Now let's implement the optimization for a constant (square) pulse:"
   ]
  },
  {
   "cell_type": "code",
   "execution_count": 35,
   "metadata": {},
   "outputs": [
    {
     "name": "stdout",
     "output_type": "stream",
     "text": [
      "Optimized amplitude * duration: -56.71728212687851\n",
      "Final energy: -1.8011870959999998\n"
     ]
    }
   ],
   "source": [
    "def create_ansatz(params):\n",
    "    amplitude, duration = params\n",
    "    # Convert amplitude and duration to an angle\n",
    "    theta = amplitude * duration\n",
    "    qc = QuantumCircuit(1, 1)\n",
    "    qc.ry(theta, 0)\n",
    "    return qc\n",
    "\n",
    "def evaluate_energy(params):\n",
    "    ansatz = create_ansatz(params)\n",
    "    results = []\n",
    "    for pauli in paulis[1:]:  # Skip 'I'\n",
    "        meas_circuit = ansatz.copy()\n",
    "        if pauli == 'X':\n",
    "            meas_circuit.h(0)\n",
    "        meas_circuit.measure(0, 0)\n",
    "        \n",
    "        # Transpile the circuit for the backend\n",
    "        transpiled_circuit = transpile(meas_circuit, backend_belem)\n",
    "        \n",
    "        # Run the circuit\n",
    "        job = backend_belem.run(transpiled_circuit, shots=shots)\n",
    "        counts = job.result().get_counts()\n",
    "        results.append(counts)\n",
    "    \n",
    "    return cost_H2(results, coeff_values, paulis)\n",
    "\n",
    "# Optimization\n",
    "initial_params = [0.1, 100]  # Initial amplitude and duration\n",
    "result_constant = minimize(evaluate_energy, initial_params, method='COBYLA', options={'maxiter': 100})\n",
    "\n",
    "print(f\"Optimized amplitude * duration: {result_constant.x[0] * result_constant.x[1]}\")\n",
    "print(f\"Final energy: {result_constant.fun}\")"
   ]
  },
  {
   "cell_type": "markdown",
   "metadata": {},
   "source": [
    "## Part 2.3: Comparison of Gaussian and Constant Pulses\n",
    "\n",
    "To compare the Gaussian and constant pulses, we need to implement the Gaussian pulse optimization as well:"
   ]
  },
  {
   "cell_type": "code",
   "execution_count": 36,
   "metadata": {},
   "outputs": [
    {
     "name": "stdout",
     "output_type": "stream",
     "text": [
      "Constant pulse - Energy: -1.8012741079999999 Number of function evaluations: 32\n",
      "Gaussian pulse - Energy: -1.8015797079999998 Number of function evaluations: 32\n"
     ]
    }
   ],
   "source": [
    "# Constants and setup (assuming these are defined earlier in your code)\n",
    "# backend_belem, simulation_backend, paulis, coeff_values, H2, qubit, shots\n",
    "\n",
    "def constant_pulse_ansatz(params):\n",
    "    amplitude, duration = params\n",
    "    theta = amplitude * duration\n",
    "    qc = QuantumCircuit(1, 1)\n",
    "    qc.ry(theta, 0)\n",
    "    return qc\n",
    "\n",
    "def gaussian_pulse_ansatz(params):\n",
    "    sigma, amplitude = params\n",
    "    # Approximate Gaussian pulse with RY rotation\n",
    "    theta = amplitude * sigma * np.sqrt(2 * np.pi)\n",
    "    qc = QuantumCircuit(1, 1)\n",
    "    qc.ry(theta, 0)\n",
    "    return qc\n",
    "\n",
    "def evaluate_energy(ansatz_func):\n",
    "    def energy(params):\n",
    "        ansatz = ansatz_func(params)\n",
    "        results = []\n",
    "        for pauli in paulis[1:]:  # Skip 'I'\n",
    "            meas_circuit = ansatz.copy()\n",
    "            if pauli == 'X':\n",
    "                meas_circuit.h(0)\n",
    "            meas_circuit.measure(0, 0)\n",
    "            transpiled_circuit = transpile(meas_circuit, backend_belem)\n",
    "            job = backend_belem.run(transpiled_circuit, shots=shots)\n",
    "            counts = job.result().get_counts()\n",
    "            results.append(counts)\n",
    "        return cost_H2(results, coeff_values, paulis)\n",
    "    return energy\n",
    "\n",
    "# Optimization\n",
    "initial_params_constant = [0.1, 100]  # Initial amplitude and duration\n",
    "result_constant = minimize(evaluate_energy(constant_pulse_ansatz), initial_params_constant, method='COBYLA', options={'maxiter': 100})\n",
    "\n",
    "initial_params_gaussian = [10, 0.1]  # Initial sigma and amplitude\n",
    "result_gaussian = minimize(evaluate_energy(gaussian_pulse_ansatz), initial_params_gaussian, method='COBYLA', options={'maxiter': 100})\n",
    "\n",
    "# Print number of function evaluations\n",
    "print(f\"Constant pulse - Energy: {result_constant.fun} Number of function evaluations: {result_constant.nfev}\")\n",
    "print(f\"Gaussian pulse - Energy: {result_gaussian.fun} Number of function evaluations: {result_gaussian.nfev}\")"
   ]
  },
  {
   "cell_type": "code",
   "execution_count": 37,
   "metadata": {},
   "outputs": [
    {
     "data": {
      "image/png": "[encoded data removed]",
      "text/plain": [
       "<Figure size 1000x600 with 1 Axes>"
      ]
     },
     "metadata": {},
     "output_type": "display_data"
    },
    {
     "data": {
      "image/png": "[encoded data removed]",
      "text/plain": [
       "<Figure size 1000x600 with 1 Axes>"
      ]
     },
     "metadata": {},
     "output_type": "display_data"
    },
    {
     "data": {
      "image/png": "[encoded data removed]",
      "text/plain": [
       "<Figure size 1000x600 with 1 Axes>"
      ]
     },
     "metadata": {},
     "output_type": "display_data"
    },
    {
     "name": "stdout",
     "output_type": "stream",
     "text": [
      "T-test for final energies:\n",
      "T-statistic: 0.5152903932465771\n",
      "P-value: 0.6093349923265965\n",
      "\n",
      "T-test for number of function evaluations:\n",
      "T-statistic: -1.5869964695214653\n",
      "P-value: 0.12080078925383296\n"
     ]
    }
   ],
   "source": [
    "# Perform multiple runs\n",
    "n_runs = 20\n",
    "constant_energies = []\n",
    "gaussian_energies = []\n",
    "constant_nfevs = []\n",
    "gaussian_nfevs = []\n",
    "\n",
    "for _ in range(n_runs):\n",
    "    result_constant = minimize(evaluate_energy(constant_pulse_ansatz), initial_params_constant, method='COBYLA', options={'maxiter': 100})\n",
    "    result_gaussian = minimize(evaluate_energy(gaussian_pulse_ansatz), initial_params_gaussian, method='COBYLA', options={'maxiter': 100})\n",
    "    constant_energies.append(result_constant.fun)\n",
    "    gaussian_energies.append(result_gaussian.fun)\n",
    "    constant_nfevs.append(result_constant.nfev)\n",
    "    gaussian_nfevs.append(result_gaussian.nfev)\n",
    "\n",
    "# Histogram of final energies\n",
    "plt.figure(figsize=(10, 6))\n",
    "plt.hist(constant_energies, alpha=0.5, label='Constant')\n",
    "plt.hist(gaussian_energies, alpha=0.5, label='Gaussian')\n",
    "plt.xlabel('Final Energy')\n",
    "plt.ylabel('Frequency')\n",
    "plt.legend()\n",
    "plt.title('Distribution of Final Energies')\n",
    "plt.show()\n",
    "\n",
    "# Box plot of final energies\n",
    "plt.figure(figsize=(10, 6))\n",
    "plt.boxplot([constant_energies, gaussian_energies], labels=['Constant', 'Gaussian'])\n",
    "plt.ylabel('Final Energy')\n",
    "plt.title('Comparison of Final Energies')\n",
    "plt.show()\n",
    "\n",
    "# Box plot of number of function evaluations\n",
    "plt.figure(figsize=(10, 6))\n",
    "plt.boxplot([constant_nfevs, gaussian_nfevs], labels=['Constant', 'Gaussian'])\n",
    "plt.ylabel('Number of Function Evaluations')\n",
    "plt.title('Comparison of Convergence Speed')\n",
    "plt.show()\n",
    "\n",
    "# T-test for final energies\n",
    "t_stat, p_value = stats.ttest_ind(constant_energies, gaussian_energies)\n",
    "print(f\"T-test for final energies:\")\n",
    "print(f\"T-statistic: {t_stat}\")\n",
    "print(f\"P-value: {p_value}\")\n",
    "\n",
    "# T-test for number of function evaluations\n",
    "t_stat_nfev, p_value_nfev = stats.ttest_ind(constant_nfevs, gaussian_nfevs)\n",
    "print(f\"\\nT-test for number of function evaluations:\")\n",
    "print(f\"T-statistic: {t_stat_nfev}\")\n",
    "print(f\"P-value: {p_value_nfev}\")"
   ]
  },
  {
   "cell_type": "markdown",
   "metadata": {},
   "source": [
    "Based on these results, we can compare the performance of Gaussian and constant pulses in terms of final energy and convergence speed.\n",
    "\n",
    "## Part 2.4: Comparison of Different Optimizers\n",
    "\n",
    "Let's compare the performance of different optimizers, including a gradient-based one:"
   ]
  },
  {
   "cell_type": "code",
   "execution_count": 38,
   "metadata": {},
   "outputs": [
    {
     "ename": "NoActiveBuilder",
     "evalue": "'A Pulse builder function was called outside of a builder context. Try calling within a builder context, eg., \"with pulse.build() as schedule: ...\".'",
     "output_type": "error",
     "traceback": [
      "\u001b[1;31m---------------------------------------------------------------------------\u001b[0m",
      "\u001b[1;31mLookupError\u001b[0m                               Traceback (most recent call last)",
      "File \u001b[1;32mc:\\Users\\ereld\\AppData\\Local\\Programs\\Python\\Python311\\Lib\\site-packages\\qiskit\\pulse\\builder.py:841\u001b[0m, in \u001b[0;36m_active_builder\u001b[1;34m()\u001b[0m\n\u001b[0;32m    840\u001b[0m \u001b[38;5;28;01mtry\u001b[39;00m:\n\u001b[1;32m--> 841\u001b[0m     \u001b[38;5;28;01mreturn\u001b[39;00m BUILDER_CONTEXTVAR\u001b[38;5;241m.\u001b[39mget()\n\u001b[0;32m    842\u001b[0m \u001b[38;5;28;01mexcept\u001b[39;00m \u001b[38;5;167;01mLookupError\u001b[39;00m \u001b[38;5;28;01mas\u001b[39;00m ex:\n",
      "\u001b[1;31mLookupError\u001b[0m: <ContextVar name='backend' at 0x00000171A6997920>",
      "\nThe above exception was the direct cause of the following exception:\n",
      "\u001b[1;31mNoActiveBuilder\u001b[0m                           Traceback (most recent call last)",
      "Cell \u001b[1;32mIn[38], line 30\u001b[0m\n\u001b[0;32m     28\u001b[0m results \u001b[38;5;241m=\u001b[39m {}\n\u001b[0;32m     29\u001b[0m \u001b[38;5;28;01mfor\u001b[39;00m name, (optimizer, kwargs) \u001b[38;5;129;01min\u001b[39;00m optimizers\u001b[38;5;241m.\u001b[39mitems():\n\u001b[1;32m---> 30\u001b[0m     results[name] \u001b[38;5;241m=\u001b[39m \u001b[43moptimize_pulse\u001b[49m\u001b[43m(\u001b[49m\u001b[38;5;124;43m'\u001b[39;49m\u001b[38;5;124;43mgaussian\u001b[39;49m\u001b[38;5;124;43m'\u001b[39;49m\u001b[43m,\u001b[49m\u001b[43m \u001b[49m\u001b[43moptimizer\u001b[49m\u001b[43m,\u001b[49m\u001b[43m \u001b[49m\u001b[38;5;241;43m*\u001b[39;49m\u001b[38;5;241;43m*\u001b[39;49m\u001b[43mkwargs\u001b[49m\u001b[43m)\u001b[49m\n\u001b[0;32m     31\u001b[0m     \u001b[38;5;28mprint\u001b[39m(\u001b[38;5;124mf\u001b[39m\u001b[38;5;124m\"\u001b[39m\u001b[38;5;132;01m{\u001b[39;00mname\u001b[38;5;132;01m}\u001b[39;00m\u001b[38;5;124m result: \u001b[39m\u001b[38;5;132;01m{\u001b[39;00mresults[name][\u001b[38;5;124m'\u001b[39m\u001b[38;5;124mresult\u001b[39m\u001b[38;5;124m'\u001b[39m]\u001b[38;5;241m.\u001b[39mfun\u001b[38;5;132;01m}\u001b[39;00m\u001b[38;5;124m\"\u001b[39m)\n\u001b[0;32m     32\u001b[0m     \u001b[38;5;28mprint\u001b[39m(\u001b[38;5;124mf\u001b[39m\u001b[38;5;124m\"\u001b[39m\u001b[38;5;132;01m{\u001b[39;00mname\u001b[38;5;132;01m}\u001b[39;00m\u001b[38;5;124m time: \u001b[39m\u001b[38;5;132;01m{\u001b[39;00mresults[name][\u001b[38;5;124m'\u001b[39m\u001b[38;5;124mtime\u001b[39m\u001b[38;5;124m'\u001b[39m]\u001b[38;5;132;01m:\u001b[39;00m\u001b[38;5;124m.2f\u001b[39m\u001b[38;5;132;01m}\u001b[39;00m\u001b[38;5;124m seconds\u001b[39m\u001b[38;5;124m\"\u001b[39m)\n",
      "Cell \u001b[1;32mIn[38], line 12\u001b[0m, in \u001b[0;36moptimize_pulse\u001b[1;34m(pulse_type, optimizer, **kwargs)\u001b[0m\n\u001b[0;32m      9\u001b[0m     evaluate_func \u001b[38;5;241m=\u001b[39m evaluate_energy_pulse\n\u001b[0;32m     11\u001b[0m start_time \u001b[38;5;241m=\u001b[39m time\u001b[38;5;241m.\u001b[39mtime()\n\u001b[1;32m---> 12\u001b[0m result \u001b[38;5;241m=\u001b[39m \u001b[43moptimizer\u001b[49m\u001b[43m(\u001b[49m\u001b[43mevaluate_func\u001b[49m\u001b[43m,\u001b[49m\u001b[43m \u001b[49m\u001b[43minitial_params\u001b[49m\u001b[43m,\u001b[49m\u001b[43m \u001b[49m\u001b[38;5;241;43m*\u001b[39;49m\u001b[38;5;241;43m*\u001b[39;49m\u001b[43mkwargs\u001b[49m\u001b[43m)\u001b[49m\n\u001b[0;32m     13\u001b[0m end_time \u001b[38;5;241m=\u001b[39m time\u001b[38;5;241m.\u001b[39mtime()\n\u001b[0;32m     15\u001b[0m \u001b[38;5;28;01mreturn\u001b[39;00m {\n\u001b[0;32m     16\u001b[0m     \u001b[38;5;124m'\u001b[39m\u001b[38;5;124mresult\u001b[39m\u001b[38;5;124m'\u001b[39m: result,\n\u001b[0;32m     17\u001b[0m     \u001b[38;5;124m'\u001b[39m\u001b[38;5;124mtime\u001b[39m\u001b[38;5;124m'\u001b[39m: end_time \u001b[38;5;241m-\u001b[39m start_time,\n\u001b[0;32m     18\u001b[0m     \u001b[38;5;124m'\u001b[39m\u001b[38;5;124mnfev\u001b[39m\u001b[38;5;124m'\u001b[39m: result\u001b[38;5;241m.\u001b[39mnfev \u001b[38;5;28;01mif\u001b[39;00m \u001b[38;5;28mhasattr\u001b[39m(result, \u001b[38;5;124m'\u001b[39m\u001b[38;5;124mnfev\u001b[39m\u001b[38;5;124m'\u001b[39m) \u001b[38;5;28;01melse\u001b[39;00m \u001b[38;5;28;01mNone\u001b[39;00m\n\u001b[0;32m     19\u001b[0m }\n",
      "File \u001b[1;32mc:\\Users\\ereld\\AppData\\Local\\Programs\\Python\\Python311\\Lib\\site-packages\\scipy\\optimize\\_minimize.py:719\u001b[0m, in \u001b[0;36mminimize\u001b[1;34m(fun, x0, args, method, jac, hess, hessp, bounds, constraints, tol, callback, options)\u001b[0m\n\u001b[0;32m    716\u001b[0m     res \u001b[38;5;241m=\u001b[39m _minimize_tnc(fun, x0, args, jac, bounds, callback\u001b[38;5;241m=\u001b[39mcallback,\n\u001b[0;32m    717\u001b[0m                         \u001b[38;5;241m*\u001b[39m\u001b[38;5;241m*\u001b[39moptions)\n\u001b[0;32m    718\u001b[0m \u001b[38;5;28;01melif\u001b[39;00m meth \u001b[38;5;241m==\u001b[39m \u001b[38;5;124m'\u001b[39m\u001b[38;5;124mcobyla\u001b[39m\u001b[38;5;124m'\u001b[39m:\n\u001b[1;32m--> 719\u001b[0m     res \u001b[38;5;241m=\u001b[39m \u001b[43m_minimize_cobyla\u001b[49m\u001b[43m(\u001b[49m\u001b[43mfun\u001b[49m\u001b[43m,\u001b[49m\u001b[43m \u001b[49m\u001b[43mx0\u001b[49m\u001b[43m,\u001b[49m\u001b[43m \u001b[49m\u001b[43margs\u001b[49m\u001b[43m,\u001b[49m\u001b[43m \u001b[49m\u001b[43mconstraints\u001b[49m\u001b[43m,\u001b[49m\u001b[43m \u001b[49m\u001b[43mcallback\u001b[49m\u001b[38;5;241;43m=\u001b[39;49m\u001b[43mcallback\u001b[49m\u001b[43m,\u001b[49m\n\u001b[0;32m    720\u001b[0m \u001b[43m                           \u001b[49m\u001b[43mbounds\u001b[49m\u001b[38;5;241;43m=\u001b[39;49m\u001b[43mbounds\u001b[49m\u001b[43m,\u001b[49m\u001b[43m \u001b[49m\u001b[38;5;241;43m*\u001b[39;49m\u001b[38;5;241;43m*\u001b[39;49m\u001b[43moptions\u001b[49m\u001b[43m)\u001b[49m\n\u001b[0;32m    721\u001b[0m \u001b[38;5;28;01melif\u001b[39;00m meth \u001b[38;5;241m==\u001b[39m \u001b[38;5;124m'\u001b[39m\u001b[38;5;124mslsqp\u001b[39m\u001b[38;5;124m'\u001b[39m:\n\u001b[0;32m    722\u001b[0m     res \u001b[38;5;241m=\u001b[39m _minimize_slsqp(fun, x0, args, jac, bounds,\n\u001b[0;32m    723\u001b[0m                           constraints, callback\u001b[38;5;241m=\u001b[39mcallback, \u001b[38;5;241m*\u001b[39m\u001b[38;5;241m*\u001b[39moptions)\n",
      "File \u001b[1;32mc:\\Users\\ereld\\AppData\\Local\\Programs\\Python\\Python311\\Lib\\site-packages\\scipy\\optimize\\_cobyla_py.py:35\u001b[0m, in \u001b[0;36msynchronized.<locals>.wrapper\u001b[1;34m(*args, **kwargs)\u001b[0m\n\u001b[0;32m     32\u001b[0m \u001b[38;5;129m@functools\u001b[39m\u001b[38;5;241m.\u001b[39mwraps(func)\n\u001b[0;32m     33\u001b[0m \u001b[38;5;28;01mdef\u001b[39;00m \u001b[38;5;21mwrapper\u001b[39m(\u001b[38;5;241m*\u001b[39margs, \u001b[38;5;241m*\u001b[39m\u001b[38;5;241m*\u001b[39mkwargs):\n\u001b[0;32m     34\u001b[0m     \u001b[38;5;28;01mwith\u001b[39;00m _module_lock:\n\u001b[1;32m---> 35\u001b[0m         \u001b[38;5;28;01mreturn\u001b[39;00m \u001b[43mfunc\u001b[49m\u001b[43m(\u001b[49m\u001b[38;5;241;43m*\u001b[39;49m\u001b[43margs\u001b[49m\u001b[43m,\u001b[49m\u001b[43m \u001b[49m\u001b[38;5;241;43m*\u001b[39;49m\u001b[38;5;241;43m*\u001b[39;49m\u001b[43mkwargs\u001b[49m\u001b[43m)\u001b[49m\n",
      "File \u001b[1;32mc:\\Users\\ereld\\AppData\\Local\\Programs\\Python\\Python311\\Lib\\site-packages\\scipy\\optimize\\_cobyla_py.py:278\u001b[0m, in \u001b[0;36m_minimize_cobyla\u001b[1;34m(fun, x0, args, constraints, rhobeg, tol, maxiter, disp, catol, callback, bounds, **unknown_options)\u001b[0m\n\u001b[0;32m    275\u001b[0m \u001b[38;5;28;01mdef\u001b[39;00m \u001b[38;5;21m_jac\u001b[39m(x, \u001b[38;5;241m*\u001b[39margs):\n\u001b[0;32m    276\u001b[0m     \u001b[38;5;28;01mreturn\u001b[39;00m \u001b[38;5;28;01mNone\u001b[39;00m\n\u001b[1;32m--> 278\u001b[0m sf \u001b[38;5;241m=\u001b[39m \u001b[43m_prepare_scalar_function\u001b[49m\u001b[43m(\u001b[49m\u001b[43mfun\u001b[49m\u001b[43m,\u001b[49m\u001b[43m \u001b[49m\u001b[43mx0\u001b[49m\u001b[43m,\u001b[49m\u001b[43m \u001b[49m\u001b[43margs\u001b[49m\u001b[38;5;241;43m=\u001b[39;49m\u001b[43margs\u001b[49m\u001b[43m,\u001b[49m\u001b[43m \u001b[49m\u001b[43mjac\u001b[49m\u001b[38;5;241;43m=\u001b[39;49m\u001b[43m_jac\u001b[49m\u001b[43m)\u001b[49m\n\u001b[0;32m    280\u001b[0m \u001b[38;5;28;01mdef\u001b[39;00m \u001b[38;5;21mcalcfc\u001b[39m(x, con):\n\u001b[0;32m    281\u001b[0m     f \u001b[38;5;241m=\u001b[39m sf\u001b[38;5;241m.\u001b[39mfun(x)\n",
      "File \u001b[1;32mc:\\Users\\ereld\\AppData\\Local\\Programs\\Python\\Python311\\Lib\\site-packages\\scipy\\optimize\\_optimize.py:288\u001b[0m, in \u001b[0;36m_prepare_scalar_function\u001b[1;34m(fun, x0, jac, args, bounds, epsilon, finite_diff_rel_step, hess)\u001b[0m\n\u001b[0;32m    284\u001b[0m     bounds \u001b[38;5;241m=\u001b[39m (\u001b[38;5;241m-\u001b[39mnp\u001b[38;5;241m.\u001b[39minf, np\u001b[38;5;241m.\u001b[39minf)\n\u001b[0;32m    286\u001b[0m \u001b[38;5;66;03m# ScalarFunction caches. Reuse of fun(x) during grad\u001b[39;00m\n\u001b[0;32m    287\u001b[0m \u001b[38;5;66;03m# calculation reduces overall function evaluations.\u001b[39;00m\n\u001b[1;32m--> 288\u001b[0m sf \u001b[38;5;241m=\u001b[39m \u001b[43mScalarFunction\u001b[49m\u001b[43m(\u001b[49m\u001b[43mfun\u001b[49m\u001b[43m,\u001b[49m\u001b[43m \u001b[49m\u001b[43mx0\u001b[49m\u001b[43m,\u001b[49m\u001b[43m \u001b[49m\u001b[43margs\u001b[49m\u001b[43m,\u001b[49m\u001b[43m \u001b[49m\u001b[43mgrad\u001b[49m\u001b[43m,\u001b[49m\u001b[43m \u001b[49m\u001b[43mhess\u001b[49m\u001b[43m,\u001b[49m\n\u001b[0;32m    289\u001b[0m \u001b[43m                    \u001b[49m\u001b[43mfinite_diff_rel_step\u001b[49m\u001b[43m,\u001b[49m\u001b[43m \u001b[49m\u001b[43mbounds\u001b[49m\u001b[43m,\u001b[49m\u001b[43m \u001b[49m\u001b[43mepsilon\u001b[49m\u001b[38;5;241;43m=\u001b[39;49m\u001b[43mepsilon\u001b[49m\u001b[43m)\u001b[49m\n\u001b[0;32m    291\u001b[0m \u001b[38;5;28;01mreturn\u001b[39;00m sf\n",
      "File \u001b[1;32mc:\\Users\\ereld\\AppData\\Local\\Programs\\Python\\Python311\\Lib\\site-packages\\scipy\\optimize\\_differentiable_functions.py:166\u001b[0m, in \u001b[0;36mScalarFunction.__init__\u001b[1;34m(self, fun, x0, args, grad, hess, finite_diff_rel_step, finite_diff_bounds, epsilon)\u001b[0m\n\u001b[0;32m    163\u001b[0m     \u001b[38;5;28mself\u001b[39m\u001b[38;5;241m.\u001b[39mf \u001b[38;5;241m=\u001b[39m fun_wrapped(\u001b[38;5;28mself\u001b[39m\u001b[38;5;241m.\u001b[39mx)\n\u001b[0;32m    165\u001b[0m \u001b[38;5;28mself\u001b[39m\u001b[38;5;241m.\u001b[39m_update_fun_impl \u001b[38;5;241m=\u001b[39m update_fun\n\u001b[1;32m--> 166\u001b[0m \u001b[38;5;28;43mself\u001b[39;49m\u001b[38;5;241;43m.\u001b[39;49m\u001b[43m_update_fun\u001b[49m\u001b[43m(\u001b[49m\u001b[43m)\u001b[49m\n\u001b[0;32m    168\u001b[0m \u001b[38;5;66;03m# Gradient evaluation\u001b[39;00m\n\u001b[0;32m    169\u001b[0m \u001b[38;5;28;01mif\u001b[39;00m \u001b[38;5;28mcallable\u001b[39m(grad):\n",
      "File \u001b[1;32mc:\\Users\\ereld\\AppData\\Local\\Programs\\Python\\Python311\\Lib\\site-packages\\scipy\\optimize\\_differentiable_functions.py:262\u001b[0m, in \u001b[0;36mScalarFunction._update_fun\u001b[1;34m(self)\u001b[0m\n\u001b[0;32m    260\u001b[0m \u001b[38;5;28;01mdef\u001b[39;00m \u001b[38;5;21m_update_fun\u001b[39m(\u001b[38;5;28mself\u001b[39m):\n\u001b[0;32m    261\u001b[0m     \u001b[38;5;28;01mif\u001b[39;00m \u001b[38;5;129;01mnot\u001b[39;00m \u001b[38;5;28mself\u001b[39m\u001b[38;5;241m.\u001b[39mf_updated:\n\u001b[1;32m--> 262\u001b[0m         \u001b[38;5;28;43mself\u001b[39;49m\u001b[38;5;241;43m.\u001b[39;49m\u001b[43m_update_fun_impl\u001b[49m\u001b[43m(\u001b[49m\u001b[43m)\u001b[49m\n\u001b[0;32m    263\u001b[0m         \u001b[38;5;28mself\u001b[39m\u001b[38;5;241m.\u001b[39mf_updated \u001b[38;5;241m=\u001b[39m \u001b[38;5;28;01mTrue\u001b[39;00m\n",
      "File \u001b[1;32mc:\\Users\\ereld\\AppData\\Local\\Programs\\Python\\Python311\\Lib\\site-packages\\scipy\\optimize\\_differentiable_functions.py:163\u001b[0m, in \u001b[0;36mScalarFunction.__init__.<locals>.update_fun\u001b[1;34m()\u001b[0m\n\u001b[0;32m    162\u001b[0m \u001b[38;5;28;01mdef\u001b[39;00m \u001b[38;5;21mupdate_fun\u001b[39m():\n\u001b[1;32m--> 163\u001b[0m     \u001b[38;5;28mself\u001b[39m\u001b[38;5;241m.\u001b[39mf \u001b[38;5;241m=\u001b[39m \u001b[43mfun_wrapped\u001b[49m\u001b[43m(\u001b[49m\u001b[38;5;28;43mself\u001b[39;49m\u001b[38;5;241;43m.\u001b[39;49m\u001b[43mx\u001b[49m\u001b[43m)\u001b[49m\n",
      "File \u001b[1;32mc:\\Users\\ereld\\AppData\\Local\\Programs\\Python\\Python311\\Lib\\site-packages\\scipy\\optimize\\_differentiable_functions.py:145\u001b[0m, in \u001b[0;36mScalarFunction.__init__.<locals>.fun_wrapped\u001b[1;34m(x)\u001b[0m\n\u001b[0;32m    141\u001b[0m \u001b[38;5;28mself\u001b[39m\u001b[38;5;241m.\u001b[39mnfev \u001b[38;5;241m+\u001b[39m\u001b[38;5;241m=\u001b[39m \u001b[38;5;241m1\u001b[39m\n\u001b[0;32m    142\u001b[0m \u001b[38;5;66;03m# Send a copy because the user may overwrite it.\u001b[39;00m\n\u001b[0;32m    143\u001b[0m \u001b[38;5;66;03m# Overwriting results in undefined behaviour because\u001b[39;00m\n\u001b[0;32m    144\u001b[0m \u001b[38;5;66;03m# fun(self.x) will change self.x, with the two no longer linked.\u001b[39;00m\n\u001b[1;32m--> 145\u001b[0m fx \u001b[38;5;241m=\u001b[39m \u001b[43mfun\u001b[49m\u001b[43m(\u001b[49m\u001b[43mnp\u001b[49m\u001b[38;5;241;43m.\u001b[39;49m\u001b[43mcopy\u001b[49m\u001b[43m(\u001b[49m\u001b[43mx\u001b[49m\u001b[43m)\u001b[49m\u001b[43m,\u001b[49m\u001b[43m \u001b[49m\u001b[38;5;241;43m*\u001b[39;49m\u001b[43margs\u001b[49m\u001b[43m)\u001b[49m\n\u001b[0;32m    146\u001b[0m \u001b[38;5;66;03m# Make sure the function returns a true scalar\u001b[39;00m\n\u001b[0;32m    147\u001b[0m \u001b[38;5;28;01mif\u001b[39;00m \u001b[38;5;129;01mnot\u001b[39;00m np\u001b[38;5;241m.\u001b[39misscalar(fx):\n",
      "Cell \u001b[1;32mIn[26], line 15\u001b[0m, in \u001b[0;36mevaluate_energy_gaussian\u001b[1;34m(params)\u001b[0m\n\u001b[0;32m     13\u001b[0m \u001b[38;5;28;01mif\u001b[39;00m pauli \u001b[38;5;241m==\u001b[39m \u001b[38;5;124m'\u001b[39m\u001b[38;5;124mX\u001b[39m\u001b[38;5;124m'\u001b[39m:\n\u001b[0;32m     14\u001b[0m     meas_schedule \u001b[38;5;241m+\u001b[39m\u001b[38;5;241m=\u001b[39m pulse\u001b[38;5;241m.\u001b[39mbuilder\u001b[38;5;241m.\u001b[39mcall_gate(qiskit\u001b[38;5;241m.\u001b[39mcircuit\u001b[38;5;241m.\u001b[39mlibrary\u001b[38;5;241m.\u001b[39mHGate(), qubit)\n\u001b[1;32m---> 15\u001b[0m meas_schedule \u001b[38;5;241m+\u001b[39m\u001b[38;5;241m=\u001b[39m \u001b[43mpulse\u001b[49m\u001b[38;5;241;43m.\u001b[39;49m\u001b[43mbuilder\u001b[49m\u001b[38;5;241;43m.\u001b[39;49m\u001b[43mmeasure\u001b[49m\u001b[43m(\u001b[49m\u001b[43mqubit\u001b[49m\u001b[43m)\u001b[49m\n\u001b[0;32m     16\u001b[0m job \u001b[38;5;241m=\u001b[39m backend_belem\u001b[38;5;241m.\u001b[39mrun(meas_schedule, shots\u001b[38;5;241m=\u001b[39mshots)\n\u001b[0;32m     17\u001b[0m counts \u001b[38;5;241m=\u001b[39m job\u001b[38;5;241m.\u001b[39mresult()\u001b[38;5;241m.\u001b[39mget_counts()\n",
      "File \u001b[1;32mc:\\Users\\ereld\\AppData\\Local\\Programs\\Python\\Python311\\Lib\\site-packages\\qiskit\\pulse\\builder.py:2110\u001b[0m, in \u001b[0;36mmeasure\u001b[1;34m(qubits, registers)\u001b[0m\n\u001b[0;32m   2055\u001b[0m \u001b[38;5;28;01mdef\u001b[39;00m \u001b[38;5;21mmeasure\u001b[39m(\n\u001b[0;32m   2056\u001b[0m     qubits: \u001b[38;5;28mlist\u001b[39m[\u001b[38;5;28mint\u001b[39m] \u001b[38;5;241m|\u001b[39m \u001b[38;5;28mint\u001b[39m,\n\u001b[0;32m   2057\u001b[0m     registers: \u001b[38;5;28mlist\u001b[39m[StorageLocation] \u001b[38;5;241m|\u001b[39m StorageLocation \u001b[38;5;241m=\u001b[39m \u001b[38;5;28;01mNone\u001b[39;00m,\n\u001b[0;32m   2058\u001b[0m ) \u001b[38;5;241m-\u001b[39m\u001b[38;5;241m>\u001b[39m \u001b[38;5;28mlist\u001b[39m[StorageLocation] \u001b[38;5;241m|\u001b[39m StorageLocation:\n\u001b[0;32m   2059\u001b[0m \u001b[38;5;250m    \u001b[39m\u001b[38;5;124;03m\"\"\"Measure a qubit within the currently active builder context.\u001b[39;00m\n\u001b[0;32m   2060\u001b[0m \n\u001b[0;32m   2061\u001b[0m \u001b[38;5;124;03m    At the pulse level a measurement is composed of both a stimulus pulse and\u001b[39;00m\n\u001b[1;32m   (...)\u001b[0m\n\u001b[0;32m   2108\u001b[0m \u001b[38;5;124;03m        The ``register`` the qubit measurement result will be stored in.\u001b[39;00m\n\u001b[0;32m   2109\u001b[0m \u001b[38;5;124;03m    \"\"\"\u001b[39;00m\n\u001b[1;32m-> 2110\u001b[0m     backend \u001b[38;5;241m=\u001b[39m \u001b[43mactive_backend\u001b[49m\u001b[43m(\u001b[49m\u001b[43m)\u001b[49m\n\u001b[0;32m   2112\u001b[0m     \u001b[38;5;28;01mtry\u001b[39;00m:\n\u001b[0;32m   2113\u001b[0m         qubits \u001b[38;5;241m=\u001b[39m \u001b[38;5;28mlist\u001b[39m(qubits)\n",
      "File \u001b[1;32mc:\\Users\\ereld\\AppData\\Local\\Programs\\Python\\Python311\\Lib\\site-packages\\qiskit\\pulse\\builder.py:860\u001b[0m, in \u001b[0;36mactive_backend\u001b[1;34m()\u001b[0m\n\u001b[0;32m    850\u001b[0m \u001b[38;5;28;01mdef\u001b[39;00m \u001b[38;5;21mactive_backend\u001b[39m():\n\u001b[0;32m    851\u001b[0m \u001b[38;5;250m    \u001b[39m\u001b[38;5;124;03m\"\"\"Get the backend of the currently active builder context.\u001b[39;00m\n\u001b[0;32m    852\u001b[0m \n\u001b[0;32m    853\u001b[0m \u001b[38;5;124;03m    Returns:\u001b[39;00m\n\u001b[1;32m   (...)\u001b[0m\n\u001b[0;32m    858\u001b[0m \u001b[38;5;124;03m        exceptions.BackendNotSet: If the builder does not have a backend set.\u001b[39;00m\n\u001b[0;32m    859\u001b[0m \u001b[38;5;124;03m    \"\"\"\u001b[39;00m\n\u001b[1;32m--> 860\u001b[0m     builder \u001b[38;5;241m=\u001b[39m \u001b[43m_active_builder\u001b[49m\u001b[43m(\u001b[49m\u001b[43m)\u001b[49m\u001b[38;5;241m.\u001b[39mbackend\n\u001b[0;32m    861\u001b[0m     \u001b[38;5;28;01mif\u001b[39;00m builder \u001b[38;5;129;01mis\u001b[39;00m \u001b[38;5;28;01mNone\u001b[39;00m:\n\u001b[0;32m    862\u001b[0m         \u001b[38;5;28;01mraise\u001b[39;00m exceptions\u001b[38;5;241m.\u001b[39mBackendNotSet(\n\u001b[0;32m    863\u001b[0m             \u001b[38;5;124m'\u001b[39m\u001b[38;5;124mThis function requires the active builder to have a \u001b[39m\u001b[38;5;124m\"\u001b[39m\u001b[38;5;124mbackend\u001b[39m\u001b[38;5;124m\"\u001b[39m\u001b[38;5;124m set.\u001b[39m\u001b[38;5;124m'\u001b[39m\n\u001b[0;32m    864\u001b[0m         )\n",
      "File \u001b[1;32mc:\\Users\\ereld\\AppData\\Local\\Programs\\Python\\Python311\\Lib\\site-packages\\qiskit\\pulse\\builder.py:843\u001b[0m, in \u001b[0;36m_active_builder\u001b[1;34m()\u001b[0m\n\u001b[0;32m    841\u001b[0m     \u001b[38;5;28;01mreturn\u001b[39;00m BUILDER_CONTEXTVAR\u001b[38;5;241m.\u001b[39mget()\n\u001b[0;32m    842\u001b[0m \u001b[38;5;28;01mexcept\u001b[39;00m \u001b[38;5;167;01mLookupError\u001b[39;00m \u001b[38;5;28;01mas\u001b[39;00m ex:\n\u001b[1;32m--> 843\u001b[0m     \u001b[38;5;28;01mraise\u001b[39;00m exceptions\u001b[38;5;241m.\u001b[39mNoActiveBuilder(\n\u001b[0;32m    844\u001b[0m         \u001b[38;5;124m\"\u001b[39m\u001b[38;5;124mA Pulse builder function was called outside of \u001b[39m\u001b[38;5;124m\"\u001b[39m\n\u001b[0;32m    845\u001b[0m         \u001b[38;5;124m\"\u001b[39m\u001b[38;5;124ma builder context. Try calling within a builder \u001b[39m\u001b[38;5;124m\"\u001b[39m\n\u001b[0;32m    846\u001b[0m         \u001b[38;5;124m'\u001b[39m\u001b[38;5;124mcontext, eg., \u001b[39m\u001b[38;5;124m\"\u001b[39m\u001b[38;5;124mwith pulse.build() as schedule: ...\u001b[39m\u001b[38;5;124m\"\u001b[39m\u001b[38;5;124m.\u001b[39m\u001b[38;5;124m'\u001b[39m\n\u001b[0;32m    847\u001b[0m     ) \u001b[38;5;28;01mfrom\u001b[39;00m \u001b[38;5;21;01mex\u001b[39;00m\n",
      "\u001b[1;31mNoActiveBuilder\u001b[0m: 'A Pulse builder function was called outside of a builder context. Try calling within a builder context, eg., \"with pulse.build() as schedule: ...\".'"
     ]
    }
   ],
   "source": [
    "from scipy.optimize import minimize, differential_evolution\n",
    "\n",
    "def optimize_pulse(pulse_type, optimizer, **kwargs):\n",
    "    if pulse_type == 'gaussian':\n",
    "        initial_params = [10, 0.1]\n",
    "        evaluate_func = evaluate_energy_gaussian\n",
    "    else:  # constant\n",
    "        initial_params = [0.1, 100]\n",
    "        evaluate_func = evaluate_energy_pulse\n",
    "    \n",
    "    start_time = time.time()\n",
    "    result = optimizer(evaluate_func, initial_params, **kwargs)\n",
    "    end_time = time.time()\n",
    "    \n",
    "    return {\n",
    "        'result': result,\n",
    "        'time': end_time - start_time,\n",
    "        'nfev': result.nfev if hasattr(result, 'nfev') else None\n",
    "    }\n",
    "\n",
    "# Compare optimizers\n",
    "optimizers = {\n",
    "    'COBYLA': (minimize, {'method': 'COBYLA', 'options': {'maxiter': 100}}),\n",
    "    'Nelder-Mead': (minimize, {'method': 'Nelder-Mead', 'options': {'maxiter': 100}}),\n",
    "    'BFGS': (minimize, {'method': 'BFGS', 'options': {'maxiter': 100}})\n",
    "}\n",
    "\n",
    "results = {}\n",
    "for name, (optimizer, kwargs) in optimizers.items():\n",
    "    results[name] = optimize_pulse('gaussian', optimizer, **kwargs)\n",
    "    print(f\"{name} result: {results[name]['result'].fun}\")\n",
    "    print(f\"{name} time: {results[name]['time']:.2f} seconds\")\n",
    "    print(f\"{name} iterations: {results[name]['nfev']}\")\n",
    "    print()\n",
    "\n",
    "# Plot comparison\n",
    "plt.figure(figsize=(12, 6))\n",
    "for name, result in results.items():\n",
    "    plt.plot(range(result['nfev']), result['result'].fun_vals, label=name)\n",
    "plt.xlabel('Number of function evaluations')\n",
    "plt.ylabel('Energy')\n",
    "plt.legend()\n",
    "plt.title('Comparison of Optimizers')\n",
    "plt.show()"
   ]
  },
  {
   "cell_type": "markdown",
   "metadata": {},
   "source": [
    "## Part 2.5: Comparison of Different Noise Models\n",
    "\n",
    "To compare different noise models, we'll need to create custom noise models and apply them to our simulation:"
   ]
  },
  {
   "cell_type": "code",
   "execution_count": null,
   "metadata": {},
   "outputs": [],
   "source": [
    "from qiskit_aer.noise import NoiseModel\n",
    "from qiskit_aer.noise.errors import depolarizing_error, thermal_relaxation_error\n",
    "\n",
    "def create_noise_model(p_meas, p_gate, T1, T2):\n",
    "    noise_model = NoiseModel()\n",
    "    \n",
    "    # Measurement error\n",
    "    error_meas = depolarizing_error(p_meas, 1)\n",
    "    noise_model.add_all_qubit_quantum_error(error_meas, \"measure\")\n",
    "    \n",
    "    # Gate error\n",
    "    error_gate = depolarizing_error(p_gate, 1)\n",
    "    noise_model.add_all_qubit_quantum_error(error_gate, [\"u1\", \"u2\", \"u3\"])\n",
    "    \n",
    "    # Thermal relaxation\n",
    "    error_thermal = thermal_relaxation_error(T1, T2, 0)\n",
    "    noise_model.add_all_qubit_quantum_error(error_thermal, [\"u1\", \"u2\", \"u3\"])\n",
    "    \n",
    "    return noise_model\n",
    "\n",
    "# Create different noise models\n",
    "noise_model_1 = create_noise_model(0.01, 0.001, 50e-6, 70e-6)\n",
    "noise_model_2 = create_noise_model(0.02, 0.002, 30e-6, 50e-6)\n",
    "noise_model_3 = create_noise_model(0.005, 0.0005, 70e-6, 100e-6)\n",
    "\n",
    "noise_models = [noise_model_1, noise_model_2, noise_model_3]\n",
    "\n",
    "# Function to evaluate energy with a specific noise model\n",
    "def evaluate_energy_with_noise(params, noise_model):\n",
    "    schedule = gaussian_pulse_ansatz(params)\n",
    "    results = []\n",
    "    for pauli in paulis[1:]:  # Skip 'I'\n",
    "        meas_schedule = schedule.copy()\n",
    "        if pauli == 'X':\n",
    "            meas_schedule += pulse.builder.call_gate(qiskit.circuit.library.HGate(), qubit)\n",
    "        meas_schedule += pulse.builder.measure(qubit)\n",
    "        job = simulation_backend.run(meas_schedule, shots=shots, noise_model=noise_model)\n",
    "        counts = job.result().get_counts()\n",
    "        results.append(counts)\n",
    "    return cost_H2(results, coeff_values, paulis)\n",
    "\n",
    "# Optimize for each noise model\n",
    "noise_results = []\n",
    "for i, noise_model in enumerate(noise_models):\n",
    "    result = minimize(lambda x: evaluate_energy_with_noise(x, noise_model),\n",
    "                      [10, 0.1], method='COBYLA', options={'maxiter': 100})\n",
    "    noise_results.append(result)\n",
    "    print(f\"Noise model {i+1} result: {result.fun}\")\n",
    "    print(f\"Noise model {i+1} parameters: {result.x}\")\n",
    "    print()\n",
    "\n",
    "# Plot comparison\n",
    "plt.figure(figsize=(12, 6))\n",
    "for i, result in enumerate(noise_results):\n",
    "    plt.plot(range(result.nfev), result.fun_vals, label=f'Noise model {i+1}')\n",
    "plt.xlabel('Number of function evaluations')\n",
    "plt.ylabel('Energy')\n",
    "plt.legend()\n",
    "plt.title('Comparison of Different Noise Models')\n",
    "plt.show()"
   ]
  },
  {
   "cell_type": "markdown",
   "metadata": {},
   "source": [
    "## Part 2.6: Transpilation and Duration Comparison\n",
    "\n",
    "Let's compare the duration of the transpiled circuit (single Ry gate) with the optimized pulse:"
   ]
  },
  {
   "cell_type": "code",
   "execution_count": null,
   "metadata": {},
   "outputs": [],
   "source": [
    "ry_circuit = QuantumCircuit(1)\n",
    "ry_circuit.ry(result.x[0], 0)  # Use the optimized angle from Part 2.1\n",
    "transpiled_circuit = transpile(ry_circuit, backend_belem)\n",
    "\n",
    "# Get the duration of the transpiled circuit\n",
    "transpiled_duration = transpiled_circuit.duration\n",
    "\n",
    "# Get the duration of the optimized pulse\n",
    "optimized_pulse = gaussian_pulse_ansatz(result_gaussian.x)\n",
    "optimized_pulse_duration = optimized_pulse.duration\n",
    "\n",
    "print(f\"Duration of transpiled Ry gate: {transpiled_duration} dt\")\n",
    "print(f\"Duration of optimized Gaussian pulse: {optimized_pulse_duration} dt\")\n",
    "\n",
    "# Compare durations\n",
    "plt.figure(figsize=(8, 6))\n",
    "plt.bar(['Transpiled Ry', 'Optimized Pulse'], [transpiled_duration, optimized_pulse_duration])\n",
    "plt.ylabel('Duration (dt)')\n",
    "plt.title('Comparison of Circuit and Pulse Durations')\n",
    "plt.show()"
   ]
  },
  {
   "cell_type": "markdown",
   "metadata": {},
   "source": [
    "This notebook covers all the parts of the exercise, implementing the required optimizations, comparisons, and visualizations. You can run each cell sequentially to see the results and plots for each part of the exercise.\n"
   ]
  }
 ],
 "metadata": {
  "kernelspec": {
   "display_name": "Python 3",
   "language": "python",
   "name": "python3"
  },
  "language_info": {
   "codemirror_mode": {
    "name": "ipython",
    "version": 3
   },
   "file_extension": ".py",
   "mimetype": "text/x-python",
   "name": "python",
   "nbconvert_exporter": "python",
   "pygments_lexer": "ipython3",
   "version": "3.11.7"
  }
 },
 "nbformat": 4,
 "nbformat_minor": 2
}
