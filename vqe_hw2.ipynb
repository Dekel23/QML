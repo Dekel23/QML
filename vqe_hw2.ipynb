{
 "cells": [
  {
   "cell_type": "markdown",
   "metadata": {},
   "source": [
    "# VQE exercise\n",
    "Erel Dekel - 326064888 \\\n",
    "Dolev Shmariho - \\\n",
    "Due to 03.07.2024"
   ]
  },
  {
   "cell_type": "markdown",
   "metadata": {},
   "source": [
    "**Installations**"
   ]
  },
  {
   "cell_type": "code",
   "execution_count": 45,
   "metadata": {},
   "outputs": [
    {
     "name": "stdout",
     "output_type": "stream",
     "text": [
      "Requirement already satisfied: qiskit in c:\\users\\ereld\\appdata\\local\\programs\\python\\python311\\lib\\site-packages (1.1.1)Note: you may need to restart the kernel to use updated packages.\n",
      "\n",
      "Requirement already satisfied: rustworkx>=0.14.0 in c:\\users\\ereld\\appdata\\local\\programs\\python\\python311\\lib\\site-packages (from qiskit) (0.14.2)\n",
      "Requirement already satisfied: numpy<3,>=1.17 in c:\\users\\ereld\\appdata\\local\\programs\\python\\python311\\lib\\site-packages (from qiskit) (1.24.1)\n",
      "Requirement already satisfied: scipy>=1.5 in c:\\users\\ereld\\appdata\\local\\programs\\python\\python311\\lib\\site-packages (from qiskit) (1.13.0)\n",
      "Requirement already satisfied: sympy>=1.3 in c:\\users\\ereld\\appdata\\local\\programs\\python\\python311\\lib\\site-packages (from qiskit) (1.12)\n",
      "Requirement already satisfied: dill>=0.3 in c:\\users\\ereld\\appdata\\local\\programs\\python\\python311\\lib\\site-packages (from qiskit) (0.3.8)\n",
      "Requirement already satisfied: python-dateutil>=2.8.0 in c:\\users\\ereld\\appdata\\local\\programs\\python\\python311\\lib\\site-packages (from qiskit) (2.8.2)\n",
      "Requirement already satisfied: stevedore>=3.0.0 in c:\\users\\ereld\\appdata\\local\\programs\\python\\python311\\lib\\site-packages (from qiskit) (5.2.0)\n",
      "Requirement already satisfied: typing-extensions in c:\\users\\ereld\\appdata\\local\\programs\\python\\python311\\lib\\site-packages (from qiskit) (4.10.0)\n",
      "Requirement already satisfied: symengine>=0.11 in c:\\users\\ereld\\appdata\\local\\programs\\python\\python311\\lib\\site-packages (from qiskit) (0.11.0)\n",
      "Requirement already satisfied: six>=1.5 in c:\\users\\ereld\\appdata\\local\\programs\\python\\python311\\lib\\site-packages (from python-dateutil>=2.8.0->qiskit) (1.16.0)\n",
      "Requirement already satisfied: pbr!=2.1.0,>=2.0.0 in c:\\users\\ereld\\appdata\\local\\programs\\python\\python311\\lib\\site-packages (from stevedore>=3.0.0->qiskit) (6.0.0)\n",
      "Requirement already satisfied: mpmath>=0.19 in c:\\users\\ereld\\appdata\\local\\programs\\python\\python311\\lib\\site-packages (from sympy>=1.3->qiskit) (1.3.0)\n",
      "Requirement already satisfied: numpy in c:\\users\\ereld\\appdata\\local\\programs\\python\\python311\\lib\\site-packages (1.24.1)\n",
      "Note: you may need to restart the kernel to use updated packages.\n",
      "Requirement already satisfied: qiskit-aer in c:\\users\\ereld\\appdata\\local\\programs\\python\\python311\\lib\\site-packages (0.14.2)\n",
      "Requirement already satisfied: qiskit>=0.45.2 in c:\\users\\ereld\\appdata\\local\\programs\\python\\python311\\lib\\site-packages (from qiskit-aer) (1.1.1)\n",
      "Requirement already satisfied: numpy>=1.16.3 in c:\\users\\ereld\\appdata\\local\\programs\\python\\python311\\lib\\site-packages (from qiskit-aer) (1.24.1)\n",
      "Requirement already satisfied: scipy>=1.0 in c:\\users\\ereld\\appdata\\local\\programs\\python\\python311\\lib\\site-packages (from qiskit-aer) (1.13.0)\n",
      "Requirement already satisfied: psutil>=5 in c:\\users\\ereld\\appdata\\local\\programs\\python\\python311\\lib\\site-packages (from qiskit-aer) (5.9.8)\n",
      "Requirement already satisfied: rustworkx>=0.14.0 in c:\\users\\ereld\\appdata\\local\\programs\\python\\python311\\lib\\site-packages (from qiskit>=0.45.2->qiskit-aer) (0.14.2)\n",
      "Requirement already satisfied: sympy>=1.3 in c:\\users\\ereld\\appdata\\local\\programs\\python\\python311\\lib\\site-packages (from qiskit>=0.45.2->qiskit-aer) (1.12)\n",
      "Requirement already satisfied: dill>=0.3 in c:\\users\\ereld\\appdata\\local\\programs\\python\\python311\\lib\\site-packages (from qiskit>=0.45.2->qiskit-aer) (0.3.8)\n",
      "Requirement already satisfied: python-dateutil>=2.8.0 in c:\\users\\ereld\\appdata\\local\\programs\\python\\python311\\lib\\site-packages (from qiskit>=0.45.2->qiskit-aer) (2.8.2)\n",
      "Requirement already satisfied: stevedore>=3.0.0 in c:\\users\\ereld\\appdata\\local\\programs\\python\\python311\\lib\\site-packages (from qiskit>=0.45.2->qiskit-aer) (5.2.0)\n",
      "Requirement already satisfied: typing-extensions in c:\\users\\ereld\\appdata\\local\\programs\\python\\python311\\lib\\site-packages (from qiskit>=0.45.2->qiskit-aer) (4.10.0)\n",
      "Requirement already satisfied: symengine>=0.11 in c:\\users\\ereld\\appdata\\local\\programs\\python\\python311\\lib\\site-packages (from qiskit>=0.45.2->qiskit-aer) (0.11.0)\n",
      "Requirement already satisfied: six>=1.5 in c:\\users\\ereld\\appdata\\local\\programs\\python\\python311\\lib\\site-packages (from python-dateutil>=2.8.0->qiskit>=0.45.2->qiskit-aer) (1.16.0)\n",
      "Requirement already satisfied: pbr!=2.1.0,>=2.0.0 in c:\\users\\ereld\\appdata\\local\\programs\\python\\python311\\lib\\site-packages (from stevedore>=3.0.0->qiskit>=0.45.2->qiskit-aer) (6.0.0)\n",
      "Requirement already satisfied: mpmath>=0.19 in c:\\users\\ereld\\appdata\\local\\programs\\python\\python311\\lib\\site-packages (from sympy>=1.3->qiskit>=0.45.2->qiskit-aer) (1.3.0)\n",
      "Note: you may need to restart the kernel to use updated packages.\n",
      "Requirement already satisfied: qiskit-algorithms in c:\\users\\ereld\\appdata\\local\\programs\\python\\python311\\lib\\site-packages (0.3.0)\n",
      "Requirement already satisfied: qiskit>=0.44 in c:\\users\\ereld\\appdata\\local\\programs\\python\\python311\\lib\\site-packages (from qiskit-algorithms) (1.1.1)\n",
      "Requirement already satisfied: scipy>=1.4 in c:\\users\\ereld\\appdata\\local\\programs\\python\\python311\\lib\\site-packages (from qiskit-algorithms) (1.13.0)\n",
      "Requirement already satisfied: numpy>=1.17 in c:\\users\\ereld\\appdata\\local\\programs\\python\\python311\\lib\\site-packages (from qiskit-algorithms) (1.24.1)\n",
      "Requirement already satisfied: rustworkx>=0.14.0 in c:\\users\\ereld\\appdata\\local\\programs\\python\\python311\\lib\\site-packages (from qiskit>=0.44->qiskit-algorithms) (0.14.2)\n",
      "Requirement already satisfied: sympy>=1.3 in c:\\users\\ereld\\appdata\\local\\programs\\python\\python311\\lib\\site-packages (from qiskit>=0.44->qiskit-algorithms) (1.12)\n",
      "Requirement already satisfied: dill>=0.3 in c:\\users\\ereld\\appdata\\local\\programs\\python\\python311\\lib\\site-packages (from qiskit>=0.44->qiskit-algorithms) (0.3.8)\n",
      "Requirement already satisfied: python-dateutil>=2.8.0 in c:\\users\\ereld\\appdata\\local\\programs\\python\\python311\\lib\\site-packages (from qiskit>=0.44->qiskit-algorithms) (2.8.2)\n",
      "Requirement already satisfied: stevedore>=3.0.0 in c:\\users\\ereld\\appdata\\local\\programs\\python\\python311\\lib\\site-packages (from qiskit>=0.44->qiskit-algorithms) (5.2.0)\n",
      "Requirement already satisfied: typing-extensions in c:\\users\\ereld\\appdata\\local\\programs\\python\\python311\\lib\\site-packages (from qiskit>=0.44->qiskit-algorithms) (4.10.0)\n",
      "Requirement already satisfied: symengine>=0.11 in c:\\users\\ereld\\appdata\\local\\programs\\python\\python311\\lib\\site-packages (from qiskit>=0.44->qiskit-algorithms) (0.11.0)\n",
      "Requirement already satisfied: six>=1.5 in c:\\users\\ereld\\appdata\\local\\programs\\python\\python311\\lib\\site-packages (from python-dateutil>=2.8.0->qiskit>=0.44->qiskit-algorithms) (1.16.0)\n",
      "Requirement already satisfied: pbr!=2.1.0,>=2.0.0 in c:\\users\\ereld\\appdata\\local\\programs\\python\\python311\\lib\\site-packages (from stevedore>=3.0.0->qiskit>=0.44->qiskit-algorithms) (6.0.0)\n",
      "Requirement already satisfied: mpmath>=0.19 in c:\\users\\ereld\\appdata\\local\\programs\\python\\python311\\lib\\site-packages (from sympy>=1.3->qiskit>=0.44->qiskit-algorithms) (1.3.0)\n",
      "Note: you may need to restart the kernel to use updated packages.\n",
      "Requirement already satisfied: matplotlib in c:\\users\\ereld\\appdata\\local\\programs\\python\\python311\\lib\\site-packages (3.8.2)Note: you may need to restart the kernel to use updated packages.\n",
      "\n",
      "Requirement already satisfied: contourpy>=1.0.1 in c:\\users\\ereld\\appdata\\local\\programs\\python\\python311\\lib\\site-packages (from matplotlib) (1.2.0)\n",
      "Requirement already satisfied: cycler>=0.10 in c:\\users\\ereld\\appdata\\local\\programs\\python\\python311\\lib\\site-packages (from matplotlib) (0.12.1)\n",
      "Requirement already satisfied: fonttools>=4.22.0 in c:\\users\\ereld\\appdata\\local\\programs\\python\\python311\\lib\\site-packages (from matplotlib) (4.47.2)\n",
      "Requirement already satisfied: kiwisolver>=1.3.1 in c:\\users\\ereld\\appdata\\local\\programs\\python\\python311\\lib\\site-packages (from matplotlib) (1.4.5)\n",
      "Requirement already satisfied: numpy<2,>=1.21 in c:\\users\\ereld\\appdata\\local\\programs\\python\\python311\\lib\\site-packages (from matplotlib) (1.24.1)\n",
      "Requirement already satisfied: packaging>=20.0 in c:\\users\\ereld\\appdata\\local\\programs\\python\\python311\\lib\\site-packages (from matplotlib) (23.2)\n",
      "Requirement already satisfied: pillow>=8 in c:\\users\\ereld\\appdata\\local\\programs\\python\\python311\\lib\\site-packages (from matplotlib) (9.3.0)\n",
      "Requirement already satisfied: pyparsing>=2.3.1 in c:\\users\\ereld\\appdata\\local\\programs\\python\\python311\\lib\\site-packages (from matplotlib) (3.1.1)\n",
      "Requirement already satisfied: python-dateutil>=2.7 in c:\\users\\ereld\\appdata\\local\\programs\\python\\python311\\lib\\site-packages (from matplotlib) (2.8.2)\n",
      "Requirement already satisfied: six>=1.5 in c:\\users\\ereld\\appdata\\local\\programs\\python\\python311\\lib\\site-packages (from python-dateutil>=2.7->matplotlib) (1.16.0)\n",
      "Collecting qiskit_ibm_runtime\n",
      "  Downloading qiskit_ibm_runtime-0.24.1-py3-none-any.whl.metadata (19 kB)\n",
      "Requirement already satisfied: requests>=2.19 in c:\\users\\ereld\\appdata\\local\\programs\\python\\python311\\lib\\site-packages (from qiskit_ibm_runtime) (2.31.0)\n",
      "Requirement already satisfied: requests-ntlm>=1.1.0 in c:\\users\\ereld\\appdata\\local\\programs\\python\\python311\\lib\\site-packages (from qiskit_ibm_runtime) (1.2.0)\n",
      "Requirement already satisfied: numpy>=1.13 in c:\\users\\ereld\\appdata\\local\\programs\\python\\python311\\lib\\site-packages (from qiskit_ibm_runtime) (1.24.1)\n",
      "Requirement already satisfied: urllib3>=1.21.1 in c:\\users\\ereld\\appdata\\local\\programs\\python\\python311\\lib\\site-packages (from qiskit_ibm_runtime) (2.2.1)\n",
      "Requirement already satisfied: python-dateutil>=2.8.0 in c:\\users\\ereld\\appdata\\local\\programs\\python\\python311\\lib\\site-packages (from qiskit_ibm_runtime) (2.8.2)\n",
      "Requirement already satisfied: websocket-client>=1.5.1 in c:\\users\\ereld\\appdata\\local\\programs\\python\\python311\\lib\\site-packages (from qiskit_ibm_runtime) (1.7.0)\n",
      "Requirement already satisfied: ibm-platform-services>=0.22.6 in c:\\users\\ereld\\appdata\\local\\programs\\python\\python311\\lib\\site-packages (from qiskit_ibm_runtime) (0.53.2)\n",
      "Requirement already satisfied: pydantic in c:\\users\\ereld\\appdata\\local\\programs\\python\\python311\\lib\\site-packages (from qiskit_ibm_runtime) (2.6.4)\n",
      "Requirement already satisfied: qiskit>=1.1.0 in c:\\users\\ereld\\appdata\\local\\programs\\python\\python311\\lib\\site-packages (from qiskit_ibm_runtime) (1.1.1)\n",
      "Requirement already satisfied: ibm-cloud-sdk-core<4.0.0,>=3.19.2 in c:\\users\\ereld\\appdata\\local\\programs\\python\\python311\\lib\\site-packages (from ibm-platform-services>=0.22.6->qiskit_ibm_runtime) (3.19.2)\n",
      "Requirement already satisfied: six>=1.5 in c:\\users\\ereld\\appdata\\local\\programs\\python\\python311\\lib\\site-packages (from python-dateutil>=2.8.0->qiskit_ibm_runtime) (1.16.0)\n",
      "Requirement already satisfied: rustworkx>=0.14.0 in c:\\users\\ereld\\appdata\\local\\programs\\python\\python311\\lib\\site-packages (from qiskit>=1.1.0->qiskit_ibm_runtime) (0.14.2)\n",
      "Requirement already satisfied: scipy>=1.5 in c:\\users\\ereld\\appdata\\local\\programs\\python\\python311\\lib\\site-packages (from qiskit>=1.1.0->qiskit_ibm_runtime) (1.13.0)\n",
      "Requirement already satisfied: sympy>=1.3 in c:\\users\\ereld\\appdata\\local\\programs\\python\\python311\\lib\\site-packages (from qiskit>=1.1.0->qiskit_ibm_runtime) (1.12)\n",
      "Requirement already satisfied: dill>=0.3 in c:\\users\\ereld\\appdata\\local\\programs\\python\\python311\\lib\\site-packages (from qiskit>=1.1.0->qiskit_ibm_runtime) (0.3.8)\n",
      "Requirement already satisfied: stevedore>=3.0.0 in c:\\users\\ereld\\appdata\\local\\programs\\python\\python311\\lib\\site-packages (from qiskit>=1.1.0->qiskit_ibm_runtime) (5.2.0)\n",
      "Requirement already satisfied: typing-extensions in c:\\users\\ereld\\appdata\\local\\programs\\python\\python311\\lib\\site-packages (from qiskit>=1.1.0->qiskit_ibm_runtime) (4.10.0)\n",
      "Requirement already satisfied: symengine>=0.11 in c:\\users\\ereld\\appdata\\local\\programs\\python\\python311\\lib\\site-packages (from qiskit>=1.1.0->qiskit_ibm_runtime) (0.11.0)\n",
      "Requirement already satisfied: charset-normalizer<4,>=2 in c:\\users\\ereld\\appdata\\local\\programs\\python\\python311\\lib\\site-packages (from requests>=2.19->qiskit_ibm_runtime) (2.1.1)\n",
      "Requirement already satisfied: idna<4,>=2.5 in c:\\users\\ereld\\appdata\\local\\programs\\python\\python311\\lib\\site-packages (from requests>=2.19->qiskit_ibm_runtime) (3.4)\n",
      "Requirement already satisfied: certifi>=2017.4.17 in c:\\users\\ereld\\appdata\\local\\programs\\python\\python311\\lib\\site-packages (from requests>=2.19->qiskit_ibm_runtime) (2022.12.7)\n",
      "Requirement already satisfied: cryptography>=1.3 in c:\\users\\ereld\\appdata\\local\\programs\\python\\python311\\lib\\site-packages (from requests-ntlm>=1.1.0->qiskit_ibm_runtime) (42.0.5)\n",
      "Requirement already satisfied: pyspnego>=0.1.6 in c:\\users\\ereld\\appdata\\local\\programs\\python\\python311\\lib\\site-packages (from requests-ntlm>=1.1.0->qiskit_ibm_runtime) (0.10.2)\n",
      "Requirement already satisfied: annotated-types>=0.4.0 in c:\\users\\ereld\\appdata\\local\\programs\\python\\python311\\lib\\site-packages (from pydantic->qiskit_ibm_runtime) (0.6.0)\n",
      "Requirement already satisfied: pydantic-core==2.16.3 in c:\\users\\ereld\\appdata\\local\\programs\\python\\python311\\lib\\site-packages (from pydantic->qiskit_ibm_runtime) (2.16.3)\n",
      "Requirement already satisfied: cffi>=1.12 in c:\\users\\ereld\\appdata\\local\\programs\\python\\python311\\lib\\site-packages (from cryptography>=1.3->requests-ntlm>=1.1.0->qiskit_ibm_runtime) (1.16.0)\n",
      "Requirement already satisfied: PyJWT<3.0.0,>=2.8.0 in c:\\users\\ereld\\appdata\\local\\programs\\python\\python311\\lib\\site-packages (from ibm-cloud-sdk-core<4.0.0,>=3.19.2->ibm-platform-services>=0.22.6->qiskit_ibm_runtime) (2.8.0)\n",
      "Requirement already satisfied: sspilib>=0.1.0 in c:\\users\\ereld\\appdata\\local\\programs\\python\\python311\\lib\\site-packages (from pyspnego>=0.1.6->requests-ntlm>=1.1.0->qiskit_ibm_runtime) (0.1.0)\n",
      "Requirement already satisfied: pbr!=2.1.0,>=2.0.0 in c:\\users\\ereld\\appdata\\local\\programs\\python\\python311\\lib\\site-packages (from stevedore>=3.0.0->qiskit>=1.1.0->qiskit_ibm_runtime) (6.0.0)\n",
      "Requirement already satisfied: mpmath>=0.19 in c:\\users\\ereld\\appdata\\local\\programs\\python\\python311\\lib\\site-packages (from sympy>=1.3->qiskit>=1.1.0->qiskit_ibm_runtime) (1.3.0)\n",
      "Requirement already satisfied: pycparser in c:\\users\\ereld\\appdata\\local\\programs\\python\\python311\\lib\\site-packages (from cffi>=1.12->cryptography>=1.3->requests-ntlm>=1.1.0->qiskit_ibm_runtime) (2.22)\n",
      "Downloading qiskit_ibm_runtime-0.24.1-py3-none-any.whl (2.9 MB)\n",
      "   ---------------------------------------- 0.0/2.9 MB ? eta -:--:--\n",
      "    --------------------------------------- 0.0/2.9 MB 2.0 MB/s eta 0:00:02\n",
      "   - -------------------------------------- 0.1/2.9 MB 1.1 MB/s eta 0:00:03\n",
      "   -- ------------------------------------- 0.2/2.9 MB 1.5 MB/s eta 0:00:02\n",
      "   ----- ---------------------------------- 0.4/2.9 MB 2.4 MB/s eta 0:00:02\n",
      "   ---------- ----------------------------- 0.8/2.9 MB 3.8 MB/s eta 0:00:01\n",
      "   --------------- ------------------------ 1.2/2.9 MB 4.6 MB/s eta 0:00:01\n",
      "   --------------------------- ------------ 2.0/2.9 MB 7.0 MB/s eta 0:00:01\n",
      "   ---------------------------------------  2.9/2.9 MB 8.8 MB/s eta 0:00:01\n",
      "   ---------------------------------------- 2.9/2.9 MB 8.1 MB/s eta 0:00:00\n",
      "Installing collected packages: qiskit_ibm_runtime\n",
      "Successfully installed qiskit_ibm_runtime-0.24.1\n",
      "Note: you may need to restart the kernel to use updated packages.\n"
     ]
    }
   ],
   "source": [
    "#!pip uninstall qiskit qiskit-aer qiskit-algorithms qiskit_utils\n",
    "%pip install qiskit\n",
    "%pip install numpy\n",
    "%pip install qiskit-aer\n",
    "%pip install qiskit-algorithms\n",
    "%pip install matplotlib\n",
    "%pip install qiskit_ibm_runtime\n"
   ]
  },
  {
   "cell_type": "markdown",
   "metadata": {},
   "source": [
    "**Imports and code constants**\n"
   ]
  },
  {
   "cell_type": "code",
   "execution_count": 50,
   "metadata": {},
   "outputs": [],
   "source": [
    "import qiskit\n",
    "import numpy as np\n",
    "import matplotlib.pyplot as plt\n",
    "import qiskit.quantum_info as qi\n",
    "import matplotlib.image as mpimg\n",
    "\n",
    "from qiskit_algorithms import VQE\n",
    "from qiskit_aer import AerSimulator\n",
    "from qiskit_aer.noise import NoiseModel\n",
    "from qiskit.primitives import Estimator\n",
    "from qiskit_aer import Aer, QasmSimulator\n",
    "from qiskit.circuit.library import TwoLocal\n",
    "from qiskit.quantum_info import SparsePauliOp\n",
    "from qiskit.visualization import circuit_drawer\n",
    "from qiskit_algorithms.optimizers import COBYLA\n",
    "from qiskit.quantum_info.operators import Operator\n",
    "from qiskit_ibm_runtime.fake_provider import FakeLimaV2\n"
   ]
  },
  {
   "cell_type": "markdown",
   "metadata": {},
   "source": [
    "**Constract H2 Hamiltonian**"
   ]
  },
  {
   "cell_type": "code",
   "execution_count": 47,
   "metadata": {},
   "outputs": [
    {
     "name": "stdout",
     "output_type": "stream",
     "text": [
      "Operator([[ 1.11022302e-16+0.j,  0.00000000e+00+0.j,  0.00000000e+00+0.j,\n",
      "            0.00000000e+00+0.j],\n",
      "          [ 0.00000000e+00+0.j, -2.73800000e-01+0.j,  1.82000000e-01+0.j,\n",
      "            0.00000000e+00+0.j],\n",
      "          [ 0.00000000e+00+0.j,  1.82000000e-01+0.j, -1.83020000e+00+0.j,\n",
      "            0.00000000e+00+0.j],\n",
      "          [ 0.00000000e+00+0.j,  0.00000000e+00+0.j,  0.00000000e+00+0.j,\n",
      "            1.82400000e-01+0.j]],\n",
      "         input_dims=(2, 2), output_dims=(2, 2))\n"
     ]
    }
   ],
   "source": [
    "g_0 = -0.4804\n",
    "paulis = [\"ZI\", \"IZ\", \"ZZ\", \"YY\", \"XX\"]\n",
    "coeffs = [0.3435, -0.4347, 0.5716, 0.0910, 0.0910]\n",
    "\n",
    "H2 = g_0*Operator(qi.SparsePauliOp(\"II\")) \\\n",
    "    +coeffs[0]*Operator(qi.SparsePauliOp(paulis[0])) \\\n",
    "    + coeffs[1]*Operator(qi.SparsePauliOp(paulis[1])) \\\n",
    "    + coeffs[2]*Operator(qi.SparsePauliOp(paulis[2])) \\\n",
    "    + coeffs[3]*Operator(qi.SparsePauliOp(paulis[3])) \\\n",
    "    + coeffs[4]*Operator(qi.SparsePauliOp(paulis[4]))\n",
    "H2"
   ]
  },
  {
   "cell_type": "markdown",
   "metadata": {},
   "source": [
    "**Part 1: find the exact solution**"
   ]
  },
  {
   "cell_type": "code",
   "execution_count": 48,
   "metadata": {},
   "outputs": [
    {
     "name": "stdout",
     "output_type": "stream",
     "text": [
      "Exact result: -1.851199124123644\n"
     ]
    }
   ],
   "source": [
    "# Find min eigenvalue\n",
    "eigen_values = np.linalg.eigvalsh(H2)\n",
    "min_eigenvalue = min(eigen_values)\n",
    "\n",
    "print(\"Exact result: \" + str(min_eigenvalue))\n",
    "\n",
    "nuclear_repulsion = 0.7055696146\n",
    "hydrogen_atom_min_eigenvalue = min_eigenvalue + nuclear_repulsion"
   ]
  },
  {
   "cell_type": "markdown",
   "metadata": {},
   "source": [
    "**Part 2: VQE using ideal simulation**"
   ]
  },
  {
   "cell_type": "code",
   "execution_count": 79,
   "metadata": {},
   "outputs": [
    {
     "data": {
      "image/png": "[encoded data removed]",
      "text/plain": [
       "<Figure size 600x400 with 1 Axes>"
      ]
     },
     "metadata": {},
     "output_type": "display_data"
    },
    {
     "name": "stdout",
     "output_type": "stream",
     "text": [
      "VQE Ground State Energy: -1.851199111958307\n",
      "Error: 1.2165336960023865e-08\n"
     ]
    }
   ],
   "source": [
    "def ansatz_2local(reps = 1, show = False):\n",
    "    ansatz = TwoLocal(num_qubits=2, rotation_blocks='ry', entanglement_blocks='cx', reps=reps)\n",
    "\n",
    "    if show:\n",
    "        full_circuit = ansatz.decompose().decompose()\n",
    "        circuit_drawer(full_circuit, output='mpl', style={'backgroundcolor': '#EEEEEE'}, filename='ansatz_circuit.png')\n",
    "        img = mpimg.imread('ansatz_circuit.png')\n",
    "        plt.figure(figsize=(6, 4))\n",
    "        plt.imshow(img)\n",
    "        plt.axis('off')\n",
    "        plt.show()\n",
    "    return ansatz\n",
    "\n",
    "ansatz = ansatz_2local(reps = 3, show = True)\n",
    "optimizer = COBYLA(maxiter=200)\n",
    "estimator = Estimator(options={\"shots\": 10**4})\n",
    "\n",
    "vqe = VQE(ansatz=ansatz, optimizer=optimizer, estimator=estimator)\n",
    "\n",
    "result = vqe.compute_minimum_eigenvalue(operator=SparsePauliOp.from_operator(H2))\n",
    "vqe_ideal_ground_state_energy = result.eigenvalue.real\n",
    "print(f\"VQE Ground State Energy: {vqe_ideal_ground_state_energy}\")\n",
    "print(f\"Error: {vqe_ideal_ground_state_energy - min_eigenvalue}\")"
   ]
  },
  {
   "cell_type": "markdown",
   "metadata": {},
   "source": [
    "**Part 2: VQE using noisy simulation**"
   ]
  },
  {
   "cell_type": "code",
   "execution_count": 76,
   "metadata": {},
   "outputs": [
    {
     "name": "stdout",
     "output_type": "stream",
     "text": [
      "VQE Ground State Energy: -1.8511991202529205\n",
      "Error: 3.870723519483477e-09\n"
     ]
    }
   ],
   "source": [
    "ansatz = ansatz_2local(reps = 3)\n",
    "optimizer = COBYLA(maxiter=200)\n",
    "\n",
    "device_backend = FakeLimaV2()\n",
    "noise_model = NoiseModel.from_backend(device_backend)\n",
    "\n",
    "noisy_simulator = AerSimulator(noise_model=noise_model)\n",
    "estimator = Estimator(options={\"shots\": 10**4, \"backend\": noisy_simulator})\n",
    "\n",
    "vqe = VQE(ansatz=ansatz, optimizer=optimizer, estimator=estimator)\n",
    "\n",
    "result = vqe.compute_minimum_eigenvalue(operator=SparsePauliOp.from_operator(H2))\n",
    "vqe_noisy_ground_state_energy = result.eigenvalue.real\n",
    "print(f\"VQE Ground State Energy: {vqe_noisy_ground_state_energy}\")\n",
    "print(f\"Error: {vqe_noisy_ground_state_energy - min_eigenvalue}\")"
   ]
  }
 ],
 "metadata": {
  "kernelspec": {
   "display_name": "Python 3",
   "language": "python",
   "name": "python3"
  },
  "language_info": {
   "codemirror_mode": {
    "name": "ipython",
    "version": 3
   },
   "file_extension": ".py",
   "mimetype": "text/x-python",
   "name": "python",
   "nbconvert_exporter": "python",
   "pygments_lexer": "ipython3",
   "version": "3.11.7"
  }
 },
 "nbformat": 4,
 "nbformat_minor": 2
}
