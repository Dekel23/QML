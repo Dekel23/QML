{
 "cells": [
  {
   "cell_type": "markdown",
   "metadata": {},
   "source": [
    "# VQE exercise\n",
    "Erel Dekel - 326064888 \\\n",
    "Dolev Shmaryahu - 326526258 \\\n",
    "Due to 03.07.2024"
   ]
  },
  {
   "cell_type": "markdown",
   "metadata": {},
   "source": [
    "**Installations**"
   ]
  },
  {
   "cell_type": "code",
   "execution_count": 2,
   "metadata": {},
   "outputs": [
    {
     "name": "stdout",
     "output_type": "stream",
     "text": [
      "Requirement already satisfied: qiskit in c:\\users\\ereld\\appdata\\local\\programs\\python\\python311\\lib\\site-packages (1.1.1)\n",
      "Requirement already satisfied: rustworkx>=0.14.0 in c:\\users\\ereld\\appdata\\local\\programs\\python\\python311\\lib\\site-packages (from qiskit) (0.14.2)\n",
      "Requirement already satisfied: numpy<3,>=1.17 in c:\\users\\ereld\\appdata\\local\\programs\\python\\python311\\lib\\site-packages (from qiskit) (1.24.1)\n",
      "Requirement already satisfied: scipy>=1.5 in c:\\users\\ereld\\appdata\\local\\programs\\python\\python311\\lib\\site-packages (from qiskit) (1.13.0)\n",
      "Requirement already satisfied: sympy>=1.3 in c:\\users\\ereld\\appdata\\local\\programs\\python\\python311\\lib\\site-packages (from qiskit) (1.12)\n",
      "Requirement already satisfied: dill>=0.3 in c:\\users\\ereld\\appdata\\local\\programs\\python\\python311\\lib\\site-packages (from qiskit) (0.3.8)\n",
      "Requirement already satisfied: python-dateutil>=2.8.0 in c:\\users\\ereld\\appdata\\local\\programs\\python\\python311\\lib\\site-packages (from qiskit) (2.8.2)\n",
      "Requirement already satisfied: stevedore>=3.0.0 in c:\\users\\ereld\\appdata\\local\\programs\\python\\python311\\lib\\site-packages (from qiskit) (5.2.0)\n",
      "Requirement already satisfied: typing-extensions in c:\\users\\ereld\\appdata\\local\\programs\\python\\python311\\lib\\site-packages (from qiskit) (4.10.0)\n",
      "Requirement already satisfied: symengine>=0.11 in c:\\users\\ereld\\appdata\\local\\programs\\python\\python311\\lib\\site-packages (from qiskit) (0.11.0)\n",
      "Requirement already satisfied: six>=1.5 in c:\\users\\ereld\\appdata\\local\\programs\\python\\python311\\lib\\site-packages (from python-dateutil>=2.8.0->qiskit) (1.16.0)\n",
      "Requirement already satisfied: pbr!=2.1.0,>=2.0.0 in c:\\users\\ereld\\appdata\\local\\programs\\python\\python311\\lib\\site-packages (from stevedore>=3.0.0->qiskit) (6.0.0)\n",
      "Requirement already satisfied: mpmath>=0.19 in c:\\users\\ereld\\appdata\\local\\programs\\python\\python311\\lib\\site-packages (from sympy>=1.3->qiskit) (1.3.0)\n",
      "Note: you may need to restart the kernel to use updated packages.\n"
     ]
    },
    {
     "name": "stderr",
     "output_type": "stream",
     "text": [
      "\n",
      "[notice] A new release of pip is available: 24.1 -> 24.1.1\n",
      "[notice] To update, run: python.exe -m pip install --upgrade pip\n"
     ]
    },
    {
     "name": "stdout",
     "output_type": "stream",
     "text": [
      "Requirement already satisfied: numpy in c:\\users\\ereld\\appdata\\local\\programs\\python\\python311\\lib\\site-packages (1.24.1)\n",
      "Note: you may need to restart the kernel to use updated packages.\n"
     ]
    },
    {
     "name": "stderr",
     "output_type": "stream",
     "text": [
      "\n",
      "[notice] A new release of pip is available: 24.1 -> 24.1.1\n",
      "[notice] To update, run: python.exe -m pip install --upgrade pip\n"
     ]
    },
    {
     "name": "stdout",
     "output_type": "stream",
     "text": [
      "Requirement already satisfied: qiskit-aer in c:\\users\\ereld\\appdata\\local\\programs\\python\\python311\\lib\\site-packages (0.14.2)\n",
      "Requirement already satisfied: qiskit>=0.45.2 in c:\\users\\ereld\\appdata\\local\\programs\\python\\python311\\lib\\site-packages (from qiskit-aer) (1.1.1)\n",
      "Requirement already satisfied: numpy>=1.16.3 in c:\\users\\ereld\\appdata\\local\\programs\\python\\python311\\lib\\site-packages (from qiskit-aer) (1.24.1)\n",
      "Requirement already satisfied: scipy>=1.0 in c:\\users\\ereld\\appdata\\local\\programs\\python\\python311\\lib\\site-packages (from qiskit-aer) (1.13.0)\n",
      "Requirement already satisfied: psutil>=5 in c:\\users\\ereld\\appdata\\local\\programs\\python\\python311\\lib\\site-packages (from qiskit-aer) (5.9.8)\n",
      "Requirement already satisfied: rustworkx>=0.14.0 in c:\\users\\ereld\\appdata\\local\\programs\\python\\python311\\lib\\site-packages (from qiskit>=0.45.2->qiskit-aer) (0.14.2)\n",
      "Requirement already satisfied: sympy>=1.3 in c:\\users\\ereld\\appdata\\local\\programs\\python\\python311\\lib\\site-packages (from qiskit>=0.45.2->qiskit-aer) (1.12)\n",
      "Requirement already satisfied: dill>=0.3 in c:\\users\\ereld\\appdata\\local\\programs\\python\\python311\\lib\\site-packages (from qiskit>=0.45.2->qiskit-aer) (0.3.8)\n",
      "Requirement already satisfied: python-dateutil>=2.8.0 in c:\\users\\ereld\\appdata\\local\\programs\\python\\python311\\lib\\site-packages (from qiskit>=0.45.2->qiskit-aer) (2.8.2)\n",
      "Requirement already satisfied: stevedore>=3.0.0 in c:\\users\\ereld\\appdata\\local\\programs\\python\\python311\\lib\\site-packages (from qiskit>=0.45.2->qiskit-aer) (5.2.0)\n",
      "Requirement already satisfied: typing-extensions in c:\\users\\ereld\\appdata\\local\\programs\\python\\python311\\lib\\site-packages (from qiskit>=0.45.2->qiskit-aer) (4.10.0)\n",
      "Requirement already satisfied: symengine>=0.11 in c:\\users\\ereld\\appdata\\local\\programs\\python\\python311\\lib\\site-packages (from qiskit>=0.45.2->qiskit-aer) (0.11.0)\n",
      "Requirement already satisfied: six>=1.5 in c:\\users\\ereld\\appdata\\local\\programs\\python\\python311\\lib\\site-packages (from python-dateutil>=2.8.0->qiskit>=0.45.2->qiskit-aer) (1.16.0)\n",
      "Requirement already satisfied: pbr!=2.1.0,>=2.0.0 in c:\\users\\ereld\\appdata\\local\\programs\\python\\python311\\lib\\site-packages (from stevedore>=3.0.0->qiskit>=0.45.2->qiskit-aer) (6.0.0)\n",
      "Requirement already satisfied: mpmath>=0.19 in c:\\users\\ereld\\appdata\\local\\programs\\python\\python311\\lib\\site-packages (from sympy>=1.3->qiskit>=0.45.2->qiskit-aer) (1.3.0)\n",
      "Note: you may need to restart the kernel to use updated packages.\n"
     ]
    },
    {
     "name": "stderr",
     "output_type": "stream",
     "text": [
      "\n",
      "[notice] A new release of pip is available: 24.1 -> 24.1.1\n",
      "[notice] To update, run: python.exe -m pip install --upgrade pip\n"
     ]
    },
    {
     "name": "stdout",
     "output_type": "stream",
     "text": [
      "Requirement already satisfied: qiskit-algorithms in c:\\users\\ereld\\appdata\\local\\programs\\python\\python311\\lib\\site-packages (0.3.0)\n",
      "Requirement already satisfied: qiskit>=0.44 in c:\\users\\ereld\\appdata\\local\\programs\\python\\python311\\lib\\site-packages (from qiskit-algorithms) (1.1.1)\n",
      "Requirement already satisfied: scipy>=1.4 in c:\\users\\ereld\\appdata\\local\\programs\\python\\python311\\lib\\site-packages (from qiskit-algorithms) (1.13.0)\n",
      "Requirement already satisfied: numpy>=1.17 in c:\\users\\ereld\\appdata\\local\\programs\\python\\python311\\lib\\site-packages (from qiskit-algorithms) (1.24.1)\n",
      "Requirement already satisfied: rustworkx>=0.14.0 in c:\\users\\ereld\\appdata\\local\\programs\\python\\python311\\lib\\site-packages (from qiskit>=0.44->qiskit-algorithms) (0.14.2)\n",
      "Requirement already satisfied: sympy>=1.3 in c:\\users\\ereld\\appdata\\local\\programs\\python\\python311\\lib\\site-packages (from qiskit>=0.44->qiskit-algorithms) (1.12)\n",
      "Requirement already satisfied: dill>=0.3 in c:\\users\\ereld\\appdata\\local\\programs\\python\\python311\\lib\\site-packages (from qiskit>=0.44->qiskit-algorithms) (0.3.8)\n",
      "Requirement already satisfied: python-dateutil>=2.8.0 in c:\\users\\ereld\\appdata\\local\\programs\\python\\python311\\lib\\site-packages (from qiskit>=0.44->qiskit-algorithms) (2.8.2)\n",
      "Requirement already satisfied: stevedore>=3.0.0 in c:\\users\\ereld\\appdata\\local\\programs\\python\\python311\\lib\\site-packages (from qiskit>=0.44->qiskit-algorithms) (5.2.0)\n",
      "Requirement already satisfied: typing-extensions in c:\\users\\ereld\\appdata\\local\\programs\\python\\python311\\lib\\site-packages (from qiskit>=0.44->qiskit-algorithms) (4.10.0)\n",
      "Requirement already satisfied: symengine>=0.11 in c:\\users\\ereld\\appdata\\local\\programs\\python\\python311\\lib\\site-packages (from qiskit>=0.44->qiskit-algorithms) (0.11.0)\n",
      "Requirement already satisfied: six>=1.5 in c:\\users\\ereld\\appdata\\local\\programs\\python\\python311\\lib\\site-packages (from python-dateutil>=2.8.0->qiskit>=0.44->qiskit-algorithms) (1.16.0)\n",
      "Requirement already satisfied: pbr!=2.1.0,>=2.0.0 in c:\\users\\ereld\\appdata\\local\\programs\\python\\python311\\lib\\site-packages (from stevedore>=3.0.0->qiskit>=0.44->qiskit-algorithms) (6.0.0)\n",
      "Requirement already satisfied: mpmath>=0.19 in c:\\users\\ereld\\appdata\\local\\programs\\python\\python311\\lib\\site-packages (from sympy>=1.3->qiskit>=0.44->qiskit-algorithms) (1.3.0)\n",
      "Note: you may need to restart the kernel to use updated packages.\n"
     ]
    },
    {
     "name": "stderr",
     "output_type": "stream",
     "text": [
      "\n",
      "[notice] A new release of pip is available: 24.1 -> 24.1.1\n",
      "[notice] To update, run: python.exe -m pip install --upgrade pip\n"
     ]
    },
    {
     "name": "stdout",
     "output_type": "stream",
     "text": [
      "Requirement already satisfied: matplotlib in c:\\users\\ereld\\appdata\\local\\programs\\python\\python311\\lib\\site-packages (3.8.2)\n",
      "Requirement already satisfied: contourpy>=1.0.1 in c:\\users\\ereld\\appdata\\local\\programs\\python\\python311\\lib\\site-packages (from matplotlib) (1.2.0)\n",
      "Requirement already satisfied: cycler>=0.10 in c:\\users\\ereld\\appdata\\local\\programs\\python\\python311\\lib\\site-packages (from matplotlib) (0.12.1)\n",
      "Requirement already satisfied: fonttools>=4.22.0 in c:\\users\\ereld\\appdata\\local\\programs\\python\\python311\\lib\\site-packages (from matplotlib) (4.47.2)\n",
      "Requirement already satisfied: kiwisolver>=1.3.1 in c:\\users\\ereld\\appdata\\local\\programs\\python\\python311\\lib\\site-packages (from matplotlib) (1.4.5)\n",
      "Requirement already satisfied: numpy<2,>=1.21 in c:\\users\\ereld\\appdata\\local\\programs\\python\\python311\\lib\\site-packages (from matplotlib) (1.24.1)\n",
      "Requirement already satisfied: packaging>=20.0 in c:\\users\\ereld\\appdata\\local\\programs\\python\\python311\\lib\\site-packages (from matplotlib) (23.2)\n",
      "Requirement already satisfied: pillow>=8 in c:\\users\\ereld\\appdata\\local\\programs\\python\\python311\\lib\\site-packages (from matplotlib) (9.3.0)\n",
      "Requirement already satisfied: pyparsing>=2.3.1 in c:\\users\\ereld\\appdata\\local\\programs\\python\\python311\\lib\\site-packages (from matplotlib) (3.1.1)\n",
      "Requirement already satisfied: python-dateutil>=2.7 in c:\\users\\ereld\\appdata\\local\\programs\\python\\python311\\lib\\site-packages (from matplotlib) (2.8.2)\n",
      "Requirement already satisfied: six>=1.5 in c:\\users\\ereld\\appdata\\local\\programs\\python\\python311\\lib\\site-packages (from python-dateutil>=2.7->matplotlib) (1.16.0)\n",
      "Note: you may need to restart the kernel to use updated packages.\n"
     ]
    },
    {
     "name": "stderr",
     "output_type": "stream",
     "text": [
      "\n",
      "[notice] A new release of pip is available: 24.1 -> 24.1.1\n",
      "[notice] To update, run: python.exe -m pip install --upgrade pip\n"
     ]
    },
    {
     "name": "stdout",
     "output_type": "stream",
     "text": [
      "Requirement already satisfied: qiskit-ibm-runtime in c:\\users\\ereld\\appdata\\local\\programs\\python\\python311\\lib\\site-packages (0.24.1)\n",
      "Requirement already satisfied: requests>=2.19 in c:\\users\\ereld\\appdata\\local\\programs\\python\\python311\\lib\\site-packages (from qiskit-ibm-runtime) (2.31.0)\n",
      "Requirement already satisfied: requests-ntlm>=1.1.0 in c:\\users\\ereld\\appdata\\local\\programs\\python\\python311\\lib\\site-packages (from qiskit-ibm-runtime) (1.2.0)\n",
      "Requirement already satisfied: numpy>=1.13 in c:\\users\\ereld\\appdata\\local\\programs\\python\\python311\\lib\\site-packages (from qiskit-ibm-runtime) (1.24.1)\n",
      "Requirement already satisfied: urllib3>=1.21.1 in c:\\users\\ereld\\appdata\\local\\programs\\python\\python311\\lib\\site-packages (from qiskit-ibm-runtime) (2.2.1)\n",
      "Requirement already satisfied: python-dateutil>=2.8.0 in c:\\users\\ereld\\appdata\\local\\programs\\python\\python311\\lib\\site-packages (from qiskit-ibm-runtime) (2.8.2)\n",
      "Requirement already satisfied: websocket-client>=1.5.1 in c:\\users\\ereld\\appdata\\local\\programs\\python\\python311\\lib\\site-packages (from qiskit-ibm-runtime) (1.7.0)\n",
      "Requirement already satisfied: ibm-platform-services>=0.22.6 in c:\\users\\ereld\\appdata\\local\\programs\\python\\python311\\lib\\site-packages (from qiskit-ibm-runtime) (0.53.2)\n",
      "Requirement already satisfied: pydantic in c:\\users\\ereld\\appdata\\local\\programs\\python\\python311\\lib\\site-packages (from qiskit-ibm-runtime) (2.6.4)\n",
      "Requirement already satisfied: qiskit>=1.1.0 in c:\\users\\ereld\\appdata\\local\\programs\\python\\python311\\lib\\site-packages (from qiskit-ibm-runtime) (1.1.1)\n",
      "Requirement already satisfied: ibm-cloud-sdk-core<4.0.0,>=3.19.2 in c:\\users\\ereld\\appdata\\local\\programs\\python\\python311\\lib\\site-packages (from ibm-platform-services>=0.22.6->qiskit-ibm-runtime) (3.19.2)\n",
      "Requirement already satisfied: six>=1.5 in c:\\users\\ereld\\appdata\\local\\programs\\python\\python311\\lib\\site-packages (from python-dateutil>=2.8.0->qiskit-ibm-runtime) (1.16.0)\n",
      "Requirement already satisfied: rustworkx>=0.14.0 in c:\\users\\ereld\\appdata\\local\\programs\\python\\python311\\lib\\site-packages (from qiskit>=1.1.0->qiskit-ibm-runtime) (0.14.2)\n",
      "Requirement already satisfied: scipy>=1.5 in c:\\users\\ereld\\appdata\\local\\programs\\python\\python311\\lib\\site-packages (from qiskit>=1.1.0->qiskit-ibm-runtime) (1.13.0)\n",
      "Requirement already satisfied: sympy>=1.3 in c:\\users\\ereld\\appdata\\local\\programs\\python\\python311\\lib\\site-packages (from qiskit>=1.1.0->qiskit-ibm-runtime) (1.12)\n",
      "Requirement already satisfied: dill>=0.3 in c:\\users\\ereld\\appdata\\local\\programs\\python\\python311\\lib\\site-packages (from qiskit>=1.1.0->qiskit-ibm-runtime) (0.3.8)\n",
      "Requirement already satisfied: stevedore>=3.0.0 in c:\\users\\ereld\\appdata\\local\\programs\\python\\python311\\lib\\site-packages (from qiskit>=1.1.0->qiskit-ibm-runtime) (5.2.0)\n",
      "Requirement already satisfied: typing-extensions in c:\\users\\ereld\\appdata\\local\\programs\\python\\python311\\lib\\site-packages (from qiskit>=1.1.0->qiskit-ibm-runtime) (4.10.0)\n",
      "Requirement already satisfied: symengine>=0.11 in c:\\users\\ereld\\appdata\\local\\programs\\python\\python311\\lib\\site-packages (from qiskit>=1.1.0->qiskit-ibm-runtime) (0.11.0)\n",
      "Requirement already satisfied: charset-normalizer<4,>=2 in c:\\users\\ereld\\appdata\\local\\programs\\python\\python311\\lib\\site-packages (from requests>=2.19->qiskit-ibm-runtime) (2.1.1)\n",
      "Requirement already satisfied: idna<4,>=2.5 in c:\\users\\ereld\\appdata\\local\\programs\\python\\python311\\lib\\site-packages (from requests>=2.19->qiskit-ibm-runtime) (3.4)\n",
      "Requirement already satisfied: certifi>=2017.4.17 in c:\\users\\ereld\\appdata\\local\\programs\\python\\python311\\lib\\site-packages (from requests>=2.19->qiskit-ibm-runtime) (2022.12.7)\n",
      "Requirement already satisfied: cryptography>=1.3 in c:\\users\\ereld\\appdata\\local\\programs\\python\\python311\\lib\\site-packages (from requests-ntlm>=1.1.0->qiskit-ibm-runtime) (42.0.5)\n",
      "Requirement already satisfied: pyspnego>=0.1.6 in c:\\users\\ereld\\appdata\\local\\programs\\python\\python311\\lib\\site-packages (from requests-ntlm>=1.1.0->qiskit-ibm-runtime) (0.10.2)\n",
      "Requirement already satisfied: annotated-types>=0.4.0 in c:\\users\\ereld\\appdata\\local\\programs\\python\\python311\\lib\\site-packages (from pydantic->qiskit-ibm-runtime) (0.6.0)\n",
      "Requirement already satisfied: pydantic-core==2.16.3 in c:\\users\\ereld\\appdata\\local\\programs\\python\\python311\\lib\\site-packages (from pydantic->qiskit-ibm-runtime) (2.16.3)\n",
      "Requirement already satisfied: cffi>=1.12 in c:\\users\\ereld\\appdata\\local\\programs\\python\\python311\\lib\\site-packages (from cryptography>=1.3->requests-ntlm>=1.1.0->qiskit-ibm-runtime) (1.16.0)\n",
      "Requirement already satisfied: PyJWT<3.0.0,>=2.8.0 in c:\\users\\ereld\\appdata\\local\\programs\\python\\python311\\lib\\site-packages (from ibm-cloud-sdk-core<4.0.0,>=3.19.2->ibm-platform-services>=0.22.6->qiskit-ibm-runtime) (2.8.0)\n",
      "Requirement already satisfied: sspilib>=0.1.0 in c:\\users\\ereld\\appdata\\local\\programs\\python\\python311\\lib\\site-packages (from pyspnego>=0.1.6->requests-ntlm>=1.1.0->qiskit-ibm-runtime) (0.1.0)\n",
      "Requirement already satisfied: pbr!=2.1.0,>=2.0.0 in c:\\users\\ereld\\appdata\\local\\programs\\python\\python311\\lib\\site-packages (from stevedore>=3.0.0->qiskit>=1.1.0->qiskit-ibm-runtime) (6.0.0)\n",
      "Requirement already satisfied: mpmath>=0.19 in c:\\users\\ereld\\appdata\\local\\programs\\python\\python311\\lib\\site-packages (from sympy>=1.3->qiskit>=1.1.0->qiskit-ibm-runtime) (1.3.0)\n",
      "Requirement already satisfied: pycparser in c:\\users\\ereld\\appdata\\local\\programs\\python\\python311\\lib\\site-packages (from cffi>=1.12->cryptography>=1.3->requests-ntlm>=1.1.0->qiskit-ibm-runtime) (2.22)\n",
      "Note: you may need to restart the kernel to use updated packages.\n"
     ]
    },
    {
     "name": "stderr",
     "output_type": "stream",
     "text": [
      "\n",
      "[notice] A new release of pip is available: 24.1 -> 24.1.1\n",
      "[notice] To update, run: python.exe -m pip install --upgrade pip\n"
     ]
    },
    {
     "name": "stdout",
     "output_type": "stream",
     "text": [
      "Requirement already satisfied: qiskit-ibm-provider in c:\\users\\ereld\\appdata\\local\\programs\\python\\python311\\lib\\site-packages (0.11.0)\n",
      "Requirement already satisfied: qiskit>=0.45.0 in c:\\users\\ereld\\appdata\\local\\programs\\python\\python311\\lib\\site-packages (from qiskit-ibm-provider) (1.1.1)\n",
      "Requirement already satisfied: requests>=2.19 in c:\\users\\ereld\\appdata\\local\\programs\\python\\python311\\lib\\site-packages (from qiskit-ibm-provider) (2.31.0)\n",
      "Requirement already satisfied: requests-ntlm>=1.1.0 in c:\\users\\ereld\\appdata\\local\\programs\\python\\python311\\lib\\site-packages (from qiskit-ibm-provider) (1.2.0)\n",
      "Requirement already satisfied: numpy>=1.13 in c:\\users\\ereld\\appdata\\local\\programs\\python\\python311\\lib\\site-packages (from qiskit-ibm-provider) (1.24.1)\n",
      "Requirement already satisfied: urllib3>=1.21.1 in c:\\users\\ereld\\appdata\\local\\programs\\python\\python311\\lib\\site-packages (from qiskit-ibm-provider) (2.2.1)\n",
      "Requirement already satisfied: python-dateutil>=2.8.0 in c:\\users\\ereld\\appdata\\local\\programs\\python\\python311\\lib\\site-packages (from qiskit-ibm-provider) (2.8.2)\n",
      "Requirement already satisfied: websocket-client>=1.5.1 in c:\\users\\ereld\\appdata\\local\\programs\\python\\python311\\lib\\site-packages (from qiskit-ibm-provider) (1.7.0)\n",
      "Requirement already satisfied: websockets>=10.0 in c:\\users\\ereld\\appdata\\local\\programs\\python\\python311\\lib\\site-packages (from qiskit-ibm-provider) (12.0)\n",
      "Requirement already satisfied: typing-extensions>=4.3 in c:\\users\\ereld\\appdata\\local\\programs\\python\\python311\\lib\\site-packages (from qiskit-ibm-provider) (4.10.0)\n",
      "Requirement already satisfied: six>=1.5 in c:\\users\\ereld\\appdata\\local\\programs\\python\\python311\\lib\\site-packages (from python-dateutil>=2.8.0->qiskit-ibm-provider) (1.16.0)\n",
      "Requirement already satisfied: rustworkx>=0.14.0 in c:\\users\\ereld\\appdata\\local\\programs\\python\\python311\\lib\\site-packages (from qiskit>=0.45.0->qiskit-ibm-provider) (0.14.2)\n",
      "Requirement already satisfied: scipy>=1.5 in c:\\users\\ereld\\appdata\\local\\programs\\python\\python311\\lib\\site-packages (from qiskit>=0.45.0->qiskit-ibm-provider) (1.13.0)\n",
      "Requirement already satisfied: sympy>=1.3 in c:\\users\\ereld\\appdata\\local\\programs\\python\\python311\\lib\\site-packages (from qiskit>=0.45.0->qiskit-ibm-provider) (1.12)\n",
      "Requirement already satisfied: dill>=0.3 in c:\\users\\ereld\\appdata\\local\\programs\\python\\python311\\lib\\site-packages (from qiskit>=0.45.0->qiskit-ibm-provider) (0.3.8)\n",
      "Requirement already satisfied: stevedore>=3.0.0 in c:\\users\\ereld\\appdata\\local\\programs\\python\\python311\\lib\\site-packages (from qiskit>=0.45.0->qiskit-ibm-provider) (5.2.0)\n",
      "Requirement already satisfied: symengine>=0.11 in c:\\users\\ereld\\appdata\\local\\programs\\python\\python311\\lib\\site-packages (from qiskit>=0.45.0->qiskit-ibm-provider) (0.11.0)\n",
      "Requirement already satisfied: charset-normalizer<4,>=2 in c:\\users\\ereld\\appdata\\local\\programs\\python\\python311\\lib\\site-packages (from requests>=2.19->qiskit-ibm-provider) (2.1.1)\n",
      "Requirement already satisfied: idna<4,>=2.5 in c:\\users\\ereld\\appdata\\local\\programs\\python\\python311\\lib\\site-packages (from requests>=2.19->qiskit-ibm-provider) (3.4)\n",
      "Requirement already satisfied: certifi>=2017.4.17 in c:\\users\\ereld\\appdata\\local\\programs\\python\\python311\\lib\\site-packages (from requests>=2.19->qiskit-ibm-provider) (2022.12.7)\n",
      "Requirement already satisfied: cryptography>=1.3 in c:\\users\\ereld\\appdata\\local\\programs\\python\\python311\\lib\\site-packages (from requests-ntlm>=1.1.0->qiskit-ibm-provider) (42.0.5)\n",
      "Requirement already satisfied: pyspnego>=0.1.6 in c:\\users\\ereld\\appdata\\local\\programs\\python\\python311\\lib\\site-packages (from requests-ntlm>=1.1.0->qiskit-ibm-provider) (0.10.2)\n",
      "Requirement already satisfied: cffi>=1.12 in c:\\users\\ereld\\appdata\\local\\programs\\python\\python311\\lib\\site-packages (from cryptography>=1.3->requests-ntlm>=1.1.0->qiskit-ibm-provider) (1.16.0)\n",
      "Requirement already satisfied: sspilib>=0.1.0 in c:\\users\\ereld\\appdata\\local\\programs\\python\\python311\\lib\\site-packages (from pyspnego>=0.1.6->requests-ntlm>=1.1.0->qiskit-ibm-provider) (0.1.0)\n",
      "Requirement already satisfied: pbr!=2.1.0,>=2.0.0 in c:\\users\\ereld\\appdata\\local\\programs\\python\\python311\\lib\\site-packages (from stevedore>=3.0.0->qiskit>=0.45.0->qiskit-ibm-provider) (6.0.0)\n",
      "Requirement already satisfied: mpmath>=0.19 in c:\\users\\ereld\\appdata\\local\\programs\\python\\python311\\lib\\site-packages (from sympy>=1.3->qiskit>=0.45.0->qiskit-ibm-provider) (1.3.0)\n",
      "Requirement already satisfied: pycparser in c:\\users\\ereld\\appdata\\local\\programs\\python\\python311\\lib\\site-packages (from cffi>=1.12->cryptography>=1.3->requests-ntlm>=1.1.0->qiskit-ibm-provider) (2.22)\n",
      "Note: you may need to restart the kernel to use updated packages.\n"
     ]
    },
    {
     "name": "stderr",
     "output_type": "stream",
     "text": [
      "\n",
      "[notice] A new release of pip is available: 24.1 -> 24.1.1\n",
      "[notice] To update, run: python.exe -m pip install --upgrade pip\n"
     ]
    }
   ],
   "source": [
    "#%pip uninstall qiskit qiskit-aer qiskit-algorithms qiskit-ibm-runtime qiskit-ibm-provider\n",
    "%pip install qiskit\n",
    "%pip install numpy\n",
    "%pip install qiskit-aer\n",
    "%pip install qiskit-algorithms\n",
    "%pip install matplotlib\n",
    "%pip install qiskit-ibm-runtime\n",
    "%pip install qiskit-ibm-provider\n"
   ]
  },
  {
   "cell_type": "markdown",
   "metadata": {},
   "source": [
    "**Imports and code constants**\n"
   ]
  },
  {
   "cell_type": "code",
   "execution_count": 2,
   "metadata": {},
   "outputs": [
    {
     "name": "stderr",
     "output_type": "stream",
     "text": [
      "C:\\Users\\ereld\\AppData\\Local\\Temp\\ipykernel_21272\\2723826471.py:20: DeprecationWarning: The package qiskit_ibm_provider is being deprecated. Please see https://docs.quantum.ibm.com/api/migration-guides/qiskit-runtime to get instructions on how to migrate to qiskit-ibm-runtime (https://github.com/Qiskit/qiskit-ibm-runtime).\n",
      "  from qiskit_ibm_provider import IBMProvider\n"
     ]
    }
   ],
   "source": [
    "import qiskit\n",
    "import numpy as np\n",
    "import matplotlib.pyplot as plt\n",
    "import qiskit.quantum_info as qi\n",
    "import matplotlib.image as mpimg\n",
    "\n",
    "from qiskit import transpile\n",
    "from qiskit_algorithms import VQE\n",
    "from qiskit_aer.noise import NoiseModel\n",
    "from qiskit.primitives import Estimator\n",
    "from qiskit.exceptions import QiskitError\n",
    "from qiskit.circuit.library import TwoLocal\n",
    "from qiskit.quantum_info import SparsePauliOp\n",
    "from qiskit.visualization import circuit_drawer\n",
    "from qiskit_algorithms.optimizers import COBYLA\n",
    "from qiskit.quantum_info.operators import Operator\n",
    "from qiskit_aer import Aer, QasmSimulator, AerSimulator\n",
    "from qiskit_ibm_runtime.fake_provider import FakeLimaV2\n",
    "from qiskit_aer.primitives import Estimator as AerEstimator\n",
    "from qiskit_ibm_provider import IBMProvider\n",
    "from qiskit_ibm_runtime import EstimatorV2\n",
    "from qiskit_ibm_runtime import QiskitRuntimeService, Session, Sampler, Options\n",
    "from qiskit.transpiler.preset_passmanagers import generate_preset_pass_manager\n",
    "\n",
    "my_token = _ # enter token to run with\n",
    "shots = 10**4"
   ]
  },
  {
   "cell_type": "markdown",
   "metadata": {},
   "source": [
    "**Constract H2 Hamiltonian**"
   ]
  },
  {
   "cell_type": "code",
   "execution_count": 3,
   "metadata": {},
   "outputs": [
    {
     "name": "stdout",
     "output_type": "stream",
     "text": [
      "Operator([[ 1.11022302e-16+0.j,  0.00000000e+00+0.j,  0.00000000e+00+0.j,\n",
      "            0.00000000e+00+0.j],\n",
      "          [ 0.00000000e+00+0.j, -2.73800000e-01+0.j,  1.82000000e-01+0.j,\n",
      "            0.00000000e+00+0.j],\n",
      "          [ 0.00000000e+00+0.j,  1.82000000e-01+0.j, -1.83020000e+00+0.j,\n",
      "            0.00000000e+00+0.j],\n",
      "          [ 0.00000000e+00+0.j,  0.00000000e+00+0.j,  0.00000000e+00+0.j,\n",
      "            1.82400000e-01+0.j]],\n",
      "         input_dims=(2, 2), output_dims=(2, 2))\n"
     ]
    }
   ],
   "source": [
    "g_0 = -0.4804\n",
    "paulis = [\"ZI\", \"IZ\", \"ZZ\", \"YY\", \"XX\"]\n",
    "coeffs = [0.3435, -0.4347, 0.5716, 0.0910, 0.0910]\n",
    "\n",
    "H2 = g_0*Operator(qi.SparsePauliOp(\"II\")) \\\n",
    "    +coeffs[0]*Operator(qi.SparsePauliOp(paulis[0])) \\\n",
    "    + coeffs[1]*Operator(qi.SparsePauliOp(paulis[1])) \\\n",
    "    + coeffs[2]*Operator(qi.SparsePauliOp(paulis[2])) \\\n",
    "    + coeffs[3]*Operator(qi.SparsePauliOp(paulis[3])) \\\n",
    "    + coeffs[4]*Operator(qi.SparsePauliOp(paulis[4]))\n",
    "H2"
   ]
  },
  {
   "cell_type": "markdown",
   "metadata": {},
   "source": [
    "**Part 1: find the exact solution**"
   ]
  },
  {
   "cell_type": "code",
   "execution_count": 4,
   "metadata": {},
   "outputs": [
    {
     "name": "stdout",
     "output_type": "stream",
     "text": [
      "Exact result: -1.851199124123644\n"
     ]
    }
   ],
   "source": [
    "# Find min eigenvalue\n",
    "eigen_values = np.linalg.eigvalsh(H2)\n",
    "min_eigenvalue = min(eigen_values)\n",
    "\n",
    "print(\"Exact result: \" + str(min_eigenvalue))\n",
    "\n",
    "nuclear_repulsion = 0.7055696146\n",
    "hydrogen_atom_min_eigenvalue = min_eigenvalue + nuclear_repulsion"
   ]
  },
  {
   "cell_type": "markdown",
   "metadata": {},
   "source": [
    "**Part 2: VQE using ideal simulation**"
   ]
  },
  {
   "cell_type": "markdown",
   "metadata": {},
   "source": [
    "Important and useful functions"
   ]
  },
  {
   "cell_type": "code",
   "execution_count": 5,
   "metadata": {},
   "outputs": [],
   "source": [
    "def ansatz_2local(reps = 1, show = False, num_qubits = 2):\n",
    "    ansatz = TwoLocal(num_qubits=num_qubits, rotation_blocks='ry', entanglement_blocks='cx', reps=reps)\n",
    "\n",
    "    if show:\n",
    "        full_circuit = ansatz.decompose().decompose()\n",
    "        circuit_drawer(full_circuit, output='mpl', style={'backgroundcolor': '#EEEEEE'}, filename='ansatz_circuit.png')\n",
    "        img = mpimg.imread('ansatz_circuit.png')\n",
    "        plt.figure(figsize=(6, 4))\n",
    "        plt.imshow(img)\n",
    "        plt.axis('off')\n",
    "        plt.show()\n",
    "    return ansatz\n",
    "\n",
    "def create_vqe_store_callback():\n",
    "    counts = []\n",
    "    values = []\n",
    "    \n",
    "    def store_intermediate_result(eval_count, parameters, mean, std):\n",
    "        counts.append(eval_count)\n",
    "        values.append(mean)\n",
    "        print(f\"VQE on Aer qasm simulator (noisy): {mean:.7f}\")\n",
    "    \n",
    "    return store_intermediate_result, counts, values\n",
    "\n",
    "def run_VQE(ansatz, optimizer, estimator, operator, action=None):\n",
    "    args = []\n",
    "    if action:\n",
    "        callback, *args = action()\n",
    "        vqe = VQE(estimator=estimator, ansatz=ansatz, optimizer=optimizer, callback=callback)\n",
    "    else:\n",
    "        vqe = VQE(estimator=estimator, ansatz=ansatz, optimizer=optimizer)\n",
    "\n",
    "    result = vqe.compute_minimum_eigenvalue(operator=SparsePauliOp.from_operator(operator))\n",
    "    return result.eigenvalue.real, *args"
   ]
  },
  {
   "cell_type": "code",
   "execution_count": 25,
   "metadata": {},
   "outputs": [
    {
     "data": {
      "image/png": "[encoded data removed]",
      "text/plain": [
       "<Figure size 600x400 with 1 Axes>"
      ]
     },
     "metadata": {},
     "output_type": "display_data"
    },
    {
     "name": "stdout",
     "output_type": "stream",
     "text": [
      "VQE on Aer qasm simulator (noisy): -1.7872288\n",
      "VQE on Aer qasm simulator (noisy): -1.5044630\n",
      "VQE on Aer qasm simulator (noisy): -1.4048359\n",
      "VQE on Aer qasm simulator (noisy): -1.2736857\n",
      "VQE on Aer qasm simulator (noisy): -1.6240918\n",
      "VQE on Aer qasm simulator (noisy): -1.2433597\n",
      "VQE on Aer qasm simulator (noisy): -1.2741418\n",
      "VQE on Aer qasm simulator (noisy): -1.3178343\n",
      "VQE on Aer qasm simulator (noisy): -1.5625869\n",
      "VQE on Aer qasm simulator (noisy): -1.5515201\n",
      "VQE on Aer qasm simulator (noisy): -1.7370300\n",
      "VQE on Aer qasm simulator (noisy): -1.7795764\n",
      "VQE on Aer qasm simulator (noisy): -1.8076925\n",
      "VQE on Aer qasm simulator (noisy): -1.7514667\n",
      "VQE on Aer qasm simulator (noisy): -1.8348339\n",
      "VQE on Aer qasm simulator (noisy): -1.8046788\n",
      "VQE on Aer qasm simulator (noisy): -1.8200445\n",
      "VQE on Aer qasm simulator (noisy): -1.8173486\n",
      "VQE on Aer qasm simulator (noisy): -1.8237151\n",
      "VQE on Aer qasm simulator (noisy): -1.8409708\n",
      "VQE on Aer qasm simulator (noisy): -1.8404941\n",
      "VQE on Aer qasm simulator (noisy): -1.8426953\n",
      "VQE on Aer qasm simulator (noisy): -1.8170716\n",
      "VQE on Aer qasm simulator (noisy): -1.8461265\n",
      "VQE on Aer qasm simulator (noisy): -1.8499983\n",
      "VQE on Aer qasm simulator (noisy): -1.8501313\n",
      "VQE on Aer qasm simulator (noisy): -1.8484551\n",
      "VQE on Aer qasm simulator (noisy): -1.8446850\n",
      "VQE on Aer qasm simulator (noisy): -1.8341719\n",
      "VQE on Aer qasm simulator (noisy): -1.8519535\n",
      "VQE on Aer qasm simulator (noisy): -1.8509233\n",
      "VQE on Aer qasm simulator (noisy): -1.8510780\n",
      "VQE on Aer qasm simulator (noisy): -1.8509029\n",
      "VQE on Aer qasm simulator (noisy): -1.8518414\n",
      "VQE on Aer qasm simulator (noisy): -1.8501053\n",
      "VQE on Aer qasm simulator (noisy): -1.8505521\n",
      "VQE on Aer qasm simulator (noisy): -1.8503765\n",
      "VQE on Aer qasm simulator (noisy): -1.8493930\n",
      "VQE on Aer qasm simulator (noisy): -1.8520882\n",
      "VQE on Aer qasm simulator (noisy): -1.8512761\n",
      "VQE on Aer qasm simulator (noisy): -1.8510052\n",
      "VQE on Aer qasm simulator (noisy): -1.8509290\n",
      "VQE on Aer qasm simulator (noisy): -1.8515727\n",
      "VQE on Aer qasm simulator (noisy): -1.8520855\n",
      "VQE on Aer qasm simulator (noisy): -1.8521257\n",
      "VQE on Aer qasm simulator (noisy): -1.8507410\n",
      "VQE on Aer qasm simulator (noisy): -1.8519717\n",
      "VQE on Aer qasm simulator (noisy): -1.8525422\n",
      "VQE on Aer qasm simulator (noisy): -1.8522064\n",
      "VQE on Aer qasm simulator (noisy): -1.8520924\n",
      "VQE on Aer qasm simulator (noisy): -1.8520429\n",
      "VQE on Aer qasm simulator (noisy): -1.8523391\n",
      "VQE on Aer qasm simulator (noisy): -1.8527160\n",
      "VQE on Aer qasm simulator (noisy): -1.8524870\n",
      "VQE on Aer qasm simulator (noisy): -1.8524230\n",
      "VQE on Aer qasm simulator (noisy): -1.8520416\n",
      "VQE on Aer qasm simulator (noisy): -1.8522064\n",
      "VQE on Aer qasm simulator (noisy): -1.8523200\n",
      "VQE on Aer qasm simulator (noisy): -1.8525522\n",
      "VQE on Aer qasm simulator (noisy): -1.8524612\n",
      "VQE on Aer qasm simulator (noisy): -1.8523692\n",
      "VQE on Aer qasm simulator (noisy): -1.8526068\n",
      "VQE on Aer qasm simulator (noisy): -1.8525522\n",
      "VQE on Aer qasm simulator (noisy): -1.8524976\n",
      "VQE on Aer qasm simulator (noisy): -1.8526796\n",
      "VQE on Aer qasm simulator (noisy): -1.8526068\n",
      "VQE on Aer qasm simulator (noisy): -1.8525322\n",
      "VQE on Aer qasm simulator (noisy): -1.8526978\n",
      "VQE on Aer qasm simulator (noisy): -1.8525504\n",
      "VQE on Aer qasm simulator (noisy): -1.8526250\n",
      "VQE on Aer qasm simulator (noisy): -1.8527160\n",
      "VQE on Aer qasm simulator (noisy): -1.8526796\n",
      "VQE on Aer qasm simulator (noisy): -1.8527160\n",
      "VQE on Aer qasm simulator (noisy): -1.8526978\n",
      "VQE on Aer qasm simulator (noisy): -1.8526614\n",
      "VQE on Aer qasm simulator (noisy): -1.8526150\n",
      "VQE on Aer qasm simulator (noisy): -1.8526796\n",
      "VQE on Aer qasm simulator (noisy): -1.8526978\n",
      "VQE on Aer qasm simulator (noisy): -1.8526796\n",
      "VQE on Aer qasm simulator (noisy): -1.8526978\n",
      "VQE on Aer qasm simulator (noisy): -1.8527342\n",
      "VQE on Aer qasm simulator (noisy): -1.8527342\n",
      "VQE on Aer qasm simulator (noisy): -1.8527342\n",
      "VQE on Aer qasm simulator (noisy): -1.8527342\n",
      "VQE on Aer qasm simulator (noisy): -1.8527342\n",
      "VQE on Aer qasm simulator (noisy): -1.8527342\n",
      "VQE on Aer qasm simulator (noisy): -1.8527342\n",
      "VQE on Aer qasm simulator (noisy): -1.8525968\n",
      "VQE Ground State Energy: -1.8525967999999997\n",
      "Error: 0.0013976758763556418\n"
     ]
    }
   ],
   "source": [
    "ansatz = ansatz_2local(reps = 3, show = True)\n",
    "optimizer = COBYLA(maxiter=200)\n",
    "\n",
    "seed = 170\n",
    "estimator = AerEstimator(\n",
    "    run_options={\"seed\": seed, \"shots\": shots},\n",
    "    transpile_options={\"seed_transpiler\": seed},\n",
    ")\n",
    "\n",
    "vqe_ideal_ground_state_energy, counts, values = run_VQE(ansatz=ansatz, optimizer=optimizer, estimator=estimator, operator=H2, action=create_vqe_store_callback)\n",
    "\n",
    "print(f\"VQE Ground State Energy: {vqe_ideal_ground_state_energy}\")\n",
    "print(f\"Error: {abs(vqe_ideal_ground_state_energy - min_eigenvalue)}\")"
   ]
  },
  {
   "cell_type": "code",
   "execution_count": 7,
   "metadata": {},
   "outputs": [
    {
     "data": {
      "image/png": "[encoded data removed]",
      "text/plain": [
       "<Figure size 640x480 with 1 Axes>"
      ]
     },
     "metadata": {},
     "output_type": "display_data"
    }
   ],
   "source": [
    "plt.plot(counts, values)\n",
    "plt.xlabel(\"Iteration\")\n",
    "plt.ylabel(\"Energy\")\n",
    "plt.title(\"VQE energy per iteration with no noise\")\n",
    "plt.show()"
   ]
  },
  {
   "cell_type": "markdown",
   "metadata": {},
   "source": [
    "**Part 3: VQE using noisy simulation**"
   ]
  },
  {
   "cell_type": "markdown",
   "metadata": {},
   "source": [
    "1 layer noisy simulation"
   ]
  },
  {
   "cell_type": "code",
   "execution_count": 6,
   "metadata": {},
   "outputs": [
    {
     "name": "stdout",
     "output_type": "stream",
     "text": [
      "NoiseModel:\n",
      "  Basis gates: ['cx', 'delay', 'id', 'measure', 'reset', 'rz', 'sx', 'x']\n",
      "  Instructions with noise: ['measure', 'sx', 'cx', 'x', 'id', 'reset']\n",
      "  Qubits with noise: [0, 1, 2, 3, 4]\n",
      "  Specific qubit errors: [('sx', (0,)), ('sx', (1,)), ('sx', (2,)), ('sx', (3,)), ('sx', (4,)), ('cx', (0, 1)), ('cx', (1, 0)), ('cx', (1, 2)), ('cx', (1, 3)), ('cx', (2, 1)), ('cx', (3, 1)), ('cx', (3, 4)), ('cx', (4, 3)), ('x', (0,)), ('x', (1,)), ('x', (2,)), ('x', (3,)), ('x', (4,)), ('id', (0,)), ('id', (1,)), ('id', (2,)), ('id', (3,)), ('id', (4,)), ('reset', (0,)), ('reset', (1,)), ('reset', (2,)), ('reset', (3,)), ('reset', (4,)), ('measure', (0,)), ('measure', (1,)), ('measure', (2,)), ('measure', (3,)), ('measure', (4,))]\n",
      "VQE on Aer qasm simulator (noisy): -0.1168852\n",
      "VQE on Aer qasm simulator (noisy): -0.1682775\n",
      "VQE on Aer qasm simulator (noisy): -0.4739654\n",
      "VQE on Aer qasm simulator (noisy): -0.4367952\n",
      "VQE on Aer qasm simulator (noisy): -0.0431049\n",
      "VQE on Aer qasm simulator (noisy): -1.1397641\n",
      "VQE on Aer qasm simulator (noisy): -1.1908298\n",
      "VQE on Aer qasm simulator (noisy): -0.9596982\n",
      "VQE on Aer qasm simulator (noisy): -1.1007962\n",
      "VQE on Aer qasm simulator (noisy): -1.3618638\n",
      "VQE on Aer qasm simulator (noisy): -1.5517471\n",
      "VQE on Aer qasm simulator (noisy): -1.5628211\n",
      "VQE on Aer qasm simulator (noisy): -1.4068931\n",
      "VQE on Aer qasm simulator (noisy): -1.7033421\n",
      "VQE on Aer qasm simulator (noisy): -1.4073895\n",
      "VQE on Aer qasm simulator (noisy): -1.6339115\n",
      "VQE on Aer qasm simulator (noisy): -1.7285109\n",
      "VQE on Aer qasm simulator (noisy): -1.7170815\n",
      "VQE on Aer qasm simulator (noisy): -1.7190593\n",
      "VQE on Aer qasm simulator (noisy): -1.6932033\n",
      "VQE on Aer qasm simulator (noisy): -1.7203430\n",
      "VQE on Aer qasm simulator (noisy): -1.7078506\n",
      "VQE on Aer qasm simulator (noisy): -1.7288601\n",
      "VQE on Aer qasm simulator (noisy): -1.7227131\n",
      "VQE on Aer qasm simulator (noisy): -1.7356871\n",
      "VQE on Aer qasm simulator (noisy): -1.7359257\n",
      "VQE on Aer qasm simulator (noisy): -1.7357517\n",
      "VQE on Aer qasm simulator (noisy): -1.7342999\n",
      "VQE on Aer qasm simulator (noisy): -1.7343622\n",
      "VQE on Aer qasm simulator (noisy): -1.7354766\n",
      "VQE on Aer qasm simulator (noisy): -1.7352046\n",
      "VQE on Aer qasm simulator (noisy): -1.7354696\n",
      "VQE on Aer qasm simulator (noisy): -1.7355525\n",
      "VQE on Aer qasm simulator (noisy): -1.7359337\n",
      "VQE on Aer qasm simulator (noisy): -1.7359337\n",
      "VQE on Aer qasm simulator (noisy): -1.7361949\n",
      "VQE on Aer qasm simulator (noisy): -1.7364033\n",
      "VQE on Aer qasm simulator (noisy): -1.7359337\n",
      "VQE on Aer qasm simulator (noisy): -1.7363223\n",
      "VQE on Aer qasm simulator (noisy): -1.7362295\n",
      "VQE on Aer qasm simulator (noisy): -1.7361221\n",
      "VQE on Aer qasm simulator (noisy): -1.7361466\n",
      "VQE on Aer qasm simulator (noisy): -1.7364497\n",
      "VQE on Aer qasm simulator (noisy): -1.7364133\n",
      "VQE on Aer qasm simulator (noisy): -1.7363123\n",
      "VQE on Aer qasm simulator (noisy): -1.7364861\n",
      "VQE on Aer qasm simulator (noisy): -1.7364133\n",
      "VQE on Aer qasm simulator (noisy): -1.7365043\n",
      "VQE on Aer qasm simulator (noisy): -1.7364315\n",
      "VQE on Aer qasm simulator (noisy): -1.7363851\n",
      "VQE on Aer qasm simulator (noisy): -1.7365043\n",
      "VQE on Aer qasm simulator (noisy): -1.7364679\n",
      "VQE on Aer qasm simulator (noisy): -1.7364679\n",
      "VQE on Aer qasm simulator (noisy): -1.7365043\n",
      "VQE on Aer qasm simulator (noisy): -1.7365043\n",
      "VQE on Aer qasm simulator (noisy): -1.7365043\n",
      "VQE on Aer qasm simulator (noisy): -1.7365043\n",
      "VQE Ground State Energy: -1.73650434\n",
      "Error: 0.11469478412364409\n"
     ]
    }
   ],
   "source": [
    "ansatz = ansatz_2local()\n",
    "coupling_map = [(0, 1), (1, 2), (2, 3), (3, 4)]\n",
    "\n",
    "fake_lima = FakeLimaV2()\n",
    "noise_model = NoiseModel.from_backend(fake_lima)\n",
    "print(noise_model)\n",
    "\n",
    "seed = 170\n",
    "noisy_estimator = AerEstimator(\n",
    "    backend_options={\n",
    "        \"method\": \"density_matrix\",\n",
    "        \"coupling_map\": coupling_map,\n",
    "        \"noise_model\": noise_model,\n",
    "    },\n",
    "    run_options={\"seed\": seed, \"shots\": shots},\n",
    "    transpile_options={\"seed_transpiler\": seed},\n",
    ")\n",
    "\n",
    "optimizer = COBYLA(maxiter=200)\n",
    "\n",
    "vqe_noisy_ground_state_energy1l, counts, values = run_VQE(ansatz=ansatz, optimizer=optimizer, estimator=noisy_estimator, operator=H2, action=create_vqe_store_callback)\n",
    "print(f\"VQE Ground State Energy: {vqe_noisy_ground_state_energy1l}\")\n",
    "print(f\"Error: {abs(vqe_noisy_ground_state_energy1l - min_eigenvalue)}\")"
   ]
  },
  {
   "cell_type": "code",
   "execution_count": 7,
   "metadata": {},
   "outputs": [
    {
     "data": {
      "image/png": "[encoded data removed]",
      "text/plain": [
       "<Figure size 640x480 with 1 Axes>"
      ]
     },
     "metadata": {},
     "output_type": "display_data"
    }
   ],
   "source": [
    "plt.plot(counts, values)\n",
    "plt.xlabel(\"Iteration\")\n",
    "plt.ylabel(\"Energy\")\n",
    "plt.title(\"VQE energy per iteration with 1l noise\")\n",
    "plt.show()"
   ]
  },
  {
   "cell_type": "markdown",
   "metadata": {},
   "source": [
    "3 layer noisy simulation"
   ]
  },
  {
   "cell_type": "code",
   "execution_count": 8,
   "metadata": {},
   "outputs": [
    {
     "name": "stdout",
     "output_type": "stream",
     "text": [
      "NoiseModel:\n",
      "  Basis gates: ['cx', 'delay', 'id', 'measure', 'reset', 'rz', 'sx', 'x']\n",
      "  Instructions with noise: ['measure', 'sx', 'cx', 'x', 'id', 'reset']\n",
      "  Qubits with noise: [0, 1, 2, 3, 4]\n",
      "  Specific qubit errors: [('sx', (0,)), ('sx', (1,)), ('sx', (2,)), ('sx', (3,)), ('sx', (4,)), ('cx', (0, 1)), ('cx', (1, 0)), ('cx', (1, 2)), ('cx', (1, 3)), ('cx', (2, 1)), ('cx', (3, 1)), ('cx', (3, 4)), ('cx', (4, 3)), ('x', (0,)), ('x', (1,)), ('x', (2,)), ('x', (3,)), ('x', (4,)), ('id', (0,)), ('id', (1,)), ('id', (2,)), ('id', (3,)), ('id', (4,)), ('reset', (0,)), ('reset', (1,)), ('reset', (2,)), ('reset', (3,)), ('reset', (4,)), ('measure', (0,)), ('measure', (1,)), ('measure', (2,)), ('measure', (3,)), ('measure', (4,))]\n",
      "VQE on Aer qasm simulator (noisy): -0.1634477\n",
      "VQE on Aer qasm simulator (noisy): -0.7313744\n",
      "VQE on Aer qasm simulator (noisy): -1.1569874\n",
      "VQE on Aer qasm simulator (noisy): -0.4729920\n",
      "VQE on Aer qasm simulator (noisy): -0.8619163\n",
      "VQE on Aer qasm simulator (noisy): -0.4759483\n",
      "VQE on Aer qasm simulator (noisy): -1.0415096\n",
      "VQE on Aer qasm simulator (noisy): -0.6324274\n",
      "VQE on Aer qasm simulator (noisy): -0.5531280\n",
      "VQE on Aer qasm simulator (noisy): -1.4299155\n",
      "VQE on Aer qasm simulator (noisy): -0.7265355\n",
      "VQE on Aer qasm simulator (noisy): -1.4827241\n",
      "VQE on Aer qasm simulator (noisy): -1.2235169\n",
      "VQE on Aer qasm simulator (noisy): -1.5925533\n",
      "VQE on Aer qasm simulator (noisy): -1.5338246\n",
      "VQE on Aer qasm simulator (noisy): -1.5344219\n",
      "VQE on Aer qasm simulator (noisy): -1.6399647\n",
      "VQE on Aer qasm simulator (noisy): -1.6401715\n",
      "VQE on Aer qasm simulator (noisy): -1.6153823\n",
      "VQE on Aer qasm simulator (noisy): -1.6410913\n",
      "VQE on Aer qasm simulator (noisy): -1.6289557\n",
      "VQE on Aer qasm simulator (noisy): -1.6522676\n",
      "VQE on Aer qasm simulator (noisy): -1.6280919\n",
      "VQE on Aer qasm simulator (noisy): -1.6673303\n",
      "VQE on Aer qasm simulator (noisy): -1.5840980\n",
      "VQE on Aer qasm simulator (noisy): -1.3806379\n",
      "VQE on Aer qasm simulator (noisy): -1.6529124\n",
      "VQE on Aer qasm simulator (noisy): -1.6753391\n",
      "VQE on Aer qasm simulator (noisy): -1.6918440\n",
      "VQE on Aer qasm simulator (noisy): -1.6920922\n",
      "VQE on Aer qasm simulator (noisy): -1.6946248\n",
      "VQE on Aer qasm simulator (noisy): -1.6877209\n",
      "VQE on Aer qasm simulator (noisy): -1.5946633\n",
      "VQE on Aer qasm simulator (noisy): -1.6881308\n",
      "VQE on Aer qasm simulator (noisy): -1.6327820\n",
      "VQE on Aer qasm simulator (noisy): -1.6972177\n",
      "VQE on Aer qasm simulator (noisy): -1.6976537\n",
      "VQE on Aer qasm simulator (noisy): -1.7064763\n",
      "VQE on Aer qasm simulator (noisy): -1.6991778\n",
      "VQE on Aer qasm simulator (noisy): -1.6920889\n",
      "VQE on Aer qasm simulator (noisy): -1.7055460\n",
      "VQE on Aer qasm simulator (noisy): -1.7034167\n",
      "VQE on Aer qasm simulator (noisy): -1.6909159\n",
      "VQE on Aer qasm simulator (noisy): -1.7096341\n",
      "VQE on Aer qasm simulator (noisy): -1.7096544\n",
      "VQE on Aer qasm simulator (noisy): -1.7053816\n",
      "VQE on Aer qasm simulator (noisy): -1.7076043\n",
      "VQE on Aer qasm simulator (noisy): -1.7104792\n",
      "VQE on Aer qasm simulator (noisy): -1.7114854\n",
      "VQE on Aer qasm simulator (noisy): -1.7116684\n",
      "VQE on Aer qasm simulator (noisy): -1.7052090\n",
      "VQE on Aer qasm simulator (noisy): -1.7115486\n",
      "VQE on Aer qasm simulator (noisy): -1.7071826\n",
      "VQE on Aer qasm simulator (noisy): -1.7105721\n",
      "VQE on Aer qasm simulator (noisy): -1.7118824\n",
      "VQE on Aer qasm simulator (noisy): -1.7113539\n",
      "VQE on Aer qasm simulator (noisy): -1.7111446\n",
      "VQE on Aer qasm simulator (noisy): -1.7118824\n",
      "VQE on Aer qasm simulator (noisy): -1.7095118\n",
      "VQE on Aer qasm simulator (noisy): -1.7112607\n",
      "VQE on Aer qasm simulator (noisy): -1.7124058\n",
      "VQE on Aer qasm simulator (noisy): -1.7118386\n",
      "VQE on Aer qasm simulator (noisy): -1.7120613\n",
      "VQE on Aer qasm simulator (noisy): -1.7110871\n",
      "VQE on Aer qasm simulator (noisy): -1.7120627\n",
      "VQE on Aer qasm simulator (noisy): -1.7122119\n",
      "VQE on Aer qasm simulator (noisy): -1.7121811\n",
      "VQE on Aer qasm simulator (noisy): -1.7116552\n",
      "VQE on Aer qasm simulator (noisy): -1.7119314\n",
      "VQE on Aer qasm simulator (noisy): -1.7118924\n",
      "VQE on Aer qasm simulator (noisy): -1.7120092\n",
      "VQE on Aer qasm simulator (noisy): -1.7124094\n",
      "VQE on Aer qasm simulator (noisy): -1.7122518\n",
      "VQE on Aer qasm simulator (noisy): -1.7117121\n",
      "VQE on Aer qasm simulator (noisy): -1.7124840\n",
      "VQE on Aer qasm simulator (noisy): -1.7124840\n",
      "VQE on Aer qasm simulator (noisy): -1.7125351\n",
      "VQE on Aer qasm simulator (noisy): -1.7125533\n",
      "VQE on Aer qasm simulator (noisy): -1.7122721\n",
      "VQE on Aer qasm simulator (noisy): -1.7120853\n",
      "VQE on Aer qasm simulator (noisy): -1.7124240\n",
      "VQE on Aer qasm simulator (noisy): -1.7120901\n",
      "VQE on Aer qasm simulator (noisy): -1.7120853\n",
      "VQE on Aer qasm simulator (noisy): -1.7125169\n",
      "VQE on Aer qasm simulator (noisy): -1.7124058\n",
      "VQE on Aer qasm simulator (noisy): -1.7123520\n",
      "VQE on Aer qasm simulator (noisy): -1.7125087\n",
      "VQE on Aer qasm simulator (noisy): -1.7125087\n",
      "VQE on Aer qasm simulator (noisy): -1.7124805\n",
      "VQE on Aer qasm simulator (noisy): -1.7125897\n",
      "VQE on Aer qasm simulator (noisy): -1.7123512\n",
      "VQE on Aer qasm simulator (noisy): -1.7126261\n",
      "VQE on Aer qasm simulator (noisy): -1.7126079\n",
      "VQE on Aer qasm simulator (noisy): -1.7126261\n",
      "VQE on Aer qasm simulator (noisy): -1.7125715\n",
      "VQE on Aer qasm simulator (noisy): -1.7124058\n",
      "VQE on Aer qasm simulator (noisy): -1.7125169\n",
      "VQE on Aer qasm simulator (noisy): -1.7125069\n",
      "VQE on Aer qasm simulator (noisy): -1.7125715\n",
      "VQE on Aer qasm simulator (noisy): -1.7123694\n",
      "VQE on Aer qasm simulator (noisy): -1.7126261\n",
      "VQE on Aer qasm simulator (noisy): -1.7125715\n",
      "VQE on Aer qasm simulator (noisy): -1.7125715\n",
      "VQE on Aer qasm simulator (noisy): -1.7126443\n",
      "VQE on Aer qasm simulator (noisy): -1.7126261\n",
      "VQE on Aer qasm simulator (noisy): -1.7126443\n",
      "VQE on Aer qasm simulator (noisy): -1.7123694\n",
      "VQE on Aer qasm simulator (noisy): -1.7126443\n",
      "VQE on Aer qasm simulator (noisy): -1.7126261\n",
      "VQE on Aer qasm simulator (noisy): -1.7126443\n",
      "VQE Ground State Energy: -1.7126442999999998\n",
      "Error: 0.13855482412364428\n"
     ]
    }
   ],
   "source": [
    "ansatz = ansatz_2local(reps= 3)\n",
    "coupling_map = [(0, 1), (1, 2), (2, 3), (3, 4)]\n",
    "\n",
    "fake_lima = FakeLimaV2()\n",
    "noise_model = NoiseModel.from_backend(fake_lima)\n",
    "print(noise_model)\n",
    "\n",
    "seed = 170\n",
    "noisy_estimator = AerEstimator(\n",
    "    backend_options={\n",
    "        \"method\": \"density_matrix\",\n",
    "        \"coupling_map\": coupling_map,\n",
    "        \"noise_model\": noise_model,\n",
    "    },\n",
    "    run_options={\"seed\": seed, \"shots\": shots},\n",
    "    transpile_options={\"seed_transpiler\": seed},\n",
    ")\n",
    "\n",
    "optimizer = COBYLA(maxiter=200)\n",
    "\n",
    "vqe_noisy_ground_state_energy3l, counts, values = run_VQE(ansatz=ansatz, optimizer=optimizer, estimator=noisy_estimator, operator=H2, action=create_vqe_store_callback)\n",
    "print(f\"VQE Ground State Energy: {vqe_noisy_ground_state_energy3l}\")\n",
    "print(f\"Error: {abs(vqe_noisy_ground_state_energy3l - min_eigenvalue)}\")"
   ]
  },
  {
   "cell_type": "code",
   "execution_count": 9,
   "metadata": {},
   "outputs": [
    {
     "data": {
      "image/png": "[encoded data removed]",
      "text/plain": [
       "<Figure size 640x480 with 1 Axes>"
      ]
     },
     "metadata": {},
     "output_type": "display_data"
    }
   ],
   "source": [
    "plt.plot(counts, values)\n",
    "plt.xlabel(\"Iteration\")\n",
    "plt.ylabel(\"Energy\")\n",
    "plt.title(\"VQE energy per iteration with 3l noise\")\n",
    "plt.show()"
   ]
  },
  {
   "cell_type": "markdown",
   "metadata": {},
   "source": [
    "**Part 4: VQE using real hardware**"
   ]
  },
  {
   "cell_type": "code",
   "execution_count": 7,
   "metadata": {},
   "outputs": [
    {
     "name": "stdout",
     "output_type": "stream",
     "text": [
      "Successfully loaded IBM Quantum account.\n",
      "Using BackEnd ibm_kyoto\n"
     ]
    }
   ],
   "source": [
    "try:\n",
    "    provider = IBMProvider(token=my_token)\n",
    "    print(\"Successfully loaded IBM Quantum account.\")\n",
    "except:\n",
    "    IBMProvider.save_account(token=my_token, instance=\"ibm-q/open/main\", overwrite=True)\n",
    "    provider = IBMProvider(token=my_token)\n",
    "    print(\"Saved and loaded IBM Quantum account.\")\n",
    "\n",
    "service = QiskitRuntimeService(channel=\"ibm_quantum\", token=my_token)\n",
    "\n",
    "backend = service.least_busy(operational = True, simulator = False)\n",
    "print(f\"Using BackEnd {backend.name}\")"
   ]
  },
  {
   "cell_type": "code",
   "execution_count": 8,
   "metadata": {},
   "outputs": [],
   "source": [
    "ansatz = ansatz_2local()\n",
    "H2_op = SparsePauliOp.from_list(\n",
    "    [\n",
    "        (\"II\", -0.4804),\n",
    "        (\"ZI\", coeffs[0]),\n",
    "        (\"IZ\", coeffs[1]),\n",
    "        (\"ZZ\", coeffs[2]),\n",
    "        (\"YY\", coeffs[3]),\n",
    "        (\"XX\", coeffs[4]),\n",
    "    ]\n",
    ")\n",
    "\n",
    "pm = generate_preset_pass_manager(target=backend.target, optimization_level=1)\n",
    "isa_psi = pm.run(ansatz)\n",
    "isa_observables = H2_op.apply_layout(isa_psi.layout)\n",
    "isa_psi.draw('mpl')\n",
    "theta = [0, 1, 1, 2]"
   ]
  },
  {
   "cell_type": "code",
   "execution_count": 10,
   "metadata": {},
   "outputs": [],
   "source": [
    "def run_vqe_hardware(use_mitigation=False, use_simulator=False):\n",
    "    try:\n",
    "        with Session(service=service, backend=backend) as session:\n",
    "            options = {\n",
    "                'resilience_level': 1 if use_mitigation else 0,\n",
    "                'optimization_level': 1,\n",
    "            }\n",
    "            print(f\"Resilience level set to: {options['resilience_level']}\")\n",
    "\n",
    "            estimator = EstimatorV2(session=session, options= options)\n",
    "\n",
    "            job = estimator.run([(isa_psi, isa_observables, [theta])])\n",
    "\n",
    "            result = job.result()[0]\n",
    "            print(f\"Job ID: {job.job_id()}\")\n",
    "            print(f\"Job Status: {job.status()}\")\n",
    "            return result.data\n",
    "    except Exception as e:\n",
    "        print(f\"An error occurred: {str(e)}\")\n",
    "        if 'job' in locals():\n",
    "            print(f\"Job ID: {job.job_id()}\")\n",
    "            print(f\"Job Status: {job.status()}\")\n",
    "            print(f\"Job Error Message: {job.error_message()}\")\n",
    "        return None"
   ]
  },
  {
   "cell_type": "code",
   "execution_count": 12,
   "metadata": {},
   "outputs": [
    {
     "name": "stdout",
     "output_type": "stream",
     "text": [
      "Running VQE without error mitigation...\n",
      "Resilience level set to: 0\n"
     ]
    },
    {
     "name": "stderr",
     "output_type": "stream",
     "text": [
      "C:\\Users\\ereld\\AppData\\Local\\Temp\\ipykernel_16464\\1078111807.py:10: DeprecationWarning: The 'session' keyword arguments are deprecated as of qiskit-ibm-runtime 0.24.0 and will be removed no sooner than 3 months after the release date. Please use the 'mode' parameter instead.\n",
      "  estimator = EstimatorV2(session=session, options= options)\n"
     ]
    },
    {
     "name": "stdout",
     "output_type": "stream",
     "text": [
      "Job ID: ct2cmb9kmkz00085zn10\n",
      "Job Status: DONE\n",
      "Ground state energy without mitigation: [-0.83024209]\n"
     ]
    }
   ],
   "source": [
    "# Run VQE without error mitigation\n",
    "print(\"Running VQE without error mitigation...\")\n",
    "energy_no_mitigation = run_vqe_hardware(use_mitigation=False)\n",
    "print(f\"Ground state energy without mitigation: {energy_no_mitigation.evs}\")"
   ]
  },
  {
   "cell_type": "code",
   "execution_count": 11,
   "metadata": {},
   "outputs": [
    {
     "name": "stdout",
     "output_type": "stream",
     "text": [
      "Running VQE with error mitigation...\n",
      "Resilience level set to: 1\n"
     ]
    },
    {
     "name": "stderr",
     "output_type": "stream",
     "text": [
      "C:\\Users\\ereld\\AppData\\Local\\Temp\\ipykernel_16464\\1078111807.py:10: DeprecationWarning: The 'session' keyword arguments are deprecated as of qiskit-ibm-runtime 0.24.0 and will be removed no sooner than 3 months after the release date. Please use the 'mode' parameter instead.\n",
      "  estimator = EstimatorV2(session=session, options= options)\n"
     ]
    },
    {
     "name": "stdout",
     "output_type": "stream",
     "text": [
      "Job ID: ct2ckpymqj7g008zv7ng\n",
      "Job Status: DONE\n",
      "Ground state energy with mitigation: [-1.62224308]\n"
     ]
    }
   ],
   "source": [
    "# Run VQE with error mitigation\n",
    "print(\"Running VQE with error mitigation...\")\n",
    "energy_with_mitigation = run_vqe_hardware(use_mitigation=True)\n",
    "print(f\"Ground state energy with mitigation: {energy_with_mitigation.evs}\")"
   ]
  },
  {
   "cell_type": "code",
   "execution_count": 13,
   "metadata": {},
   "outputs": [
    {
     "name": "stdout",
     "output_type": "stream",
     "text": [
      "Error without mitigation: 1.0209570342798941\n",
      "Error with mitigation: 0.22895604207019438\n"
     ]
    }
   ],
   "source": [
    "# Calculate errors\n",
    "error_no_mitigation = abs(energy_no_mitigation.evs[0] - min_eigenvalue)\n",
    "error_with_mitigation = abs(energy_with_mitigation.evs[0] - min_eigenvalue)\n",
    "\n",
    "print(f\"Error without mitigation: {error_no_mitigation}\")\n",
    "print(f\"Error with mitigation: {error_with_mitigation}\")"
   ]
  },
  {
   "cell_type": "markdown",
   "metadata": {},
   "source": [
    "**Part 5: Analazing result**"
   ]
  },
  {
   "cell_type": "markdown",
   "metadata": {},
   "source": [
    "Fisrt lets check the errors in each part:\n",
    "$$ Error^{H_{2}}_{\\text{ideal simulator}} = 0.0014[Ha] \\qquad Error^{H_{2}}_{\\text{noisy simulator 1l}} = 0.1147[Ha] \\qquad Error^{H_{2}}_{\\text{noisy simulator 3l}} = 0.1385[Ha]$$\n",
    "$$ Error^{H_{2}}_{\\text{hardware without mitigation}} = 1.0209[Ha] \\qquad Error^{H_{2}}_{\\text{hardware with mitigation}} = 0.2289[Ha]$$\n",
    "\n",
    "The chemical accuracy threshold is $1.6 [mHa]$.\n",
    "\n",
    "Firstly, note that the ideal simulator achieves chemical accuracy. However, none of the other experiments managed to reach this threshold.\n",
    "\n",
    "The best result we obtained, excluding the ideal simulator, was with the noisy simulator with one layer (1l). The error in this case is caused by the noise in the simulation. The reason for the larger error in the three-layer noisy simulation (3l) is that although a deeper ansatz is more expressive and can represent more complex states, it also involves more quantum gates, which increases the circuit's susceptibility to noise.\n",
    "\n",
    "On real hardware, the results we obtained are far from chemical accuracy, primarily due to the noise and imperfections in current quantum devices. However, with error mitigation, we achieved much better results. This improvement is because error mitigation techniques use noise-reducing strategies such as zero-noise extrapolation, readout error mitigation, and more advanced error correction methods to reach better results."
   ]
  }
 ],
 "metadata": {
  "kernelspec": {
   "display_name": "Python 3",
   "language": "python",
   "name": "python3"
  },
  "language_info": {
   "codemirror_mode": {
    "name": "ipython",
    "version": 3
   },
   "file_extension": ".py",
   "mimetype": "text/x-python",
   "name": "python",
   "nbconvert_exporter": "python",
   "pygments_lexer": "ipython3",
   "version": "3.11.7"
  }
 },
 "nbformat": 4,
 "nbformat_minor": 2
}
